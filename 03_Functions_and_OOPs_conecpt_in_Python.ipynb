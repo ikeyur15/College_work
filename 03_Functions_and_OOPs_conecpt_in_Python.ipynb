{
 "cells": [
  {
   "cell_type": "markdown",
   "metadata": {
    "id": "iVjh5wT1V5rQ"
   },
   "source": [
    "# **Functions** in python ⚒"
   ]
  },
  {
   "cell_type": "code",
   "execution_count": null,
   "metadata": {
    "id": "12dxN0GTEObk"
   },
   "outputs": [],
   "source": [
    "def my_function():\n",
    "  print(\"Hello from a function\")"
   ]
  },
  {
   "cell_type": "code",
   "execution_count": null,
   "metadata": {
    "id": "Cu6nSs0xEKVy"
   },
   "outputs": [],
   "source": [
    "my_function()"
   ]
  },
  {
   "cell_type": "markdown",
   "metadata": {
    "id": "dGxoByFfYRv4"
   },
   "source": [
    "## **Arguments** ( ⛏ )\n",
    "Information can be passed into functions as arguments. Arguments are specified after the function name, inside the parentheses. You can add as many arguments as you want, just separate them with a comma."
   ]
  },
  {
   "cell_type": "code",
   "execution_count": null,
   "metadata": {
    "id": "p2Y5Jg12YW7T"
   },
   "outputs": [],
   "source": [
    "def my_function(fname):\n",
    "  print(f\"{fname} Patel\")\n",
    "\n",
    "my_function(\"Rahul\")\n",
    "my_function(\"Bhavik\")\n",
    "my_function(\"Ronak\")"
   ]
  },
  {
   "cell_type": "code",
   "execution_count": null,
   "metadata": {
    "id": "OdxcRwmHY5VJ"
   },
   "outputs": [],
   "source": [
    "def my_function(fname = \"Ravi\" , lname = \"Bhat\",*args):\n",
    "  print(f\"{fname} {lname} {args[0]}\")\n",
    "\n",
    "my_function(\"Ravi\", \"Patel\", \"GU\",78,90)"
   ]
  },
  {
   "cell_type": "markdown",
   "metadata": {
    "id": "2QSjWskkZd1M"
   },
   "source": [
    "### Arbitrary Arguments, *args\n",
    "If you do not know how many arguments that will be passed into your function, add a * before the parameter name in the function definition.\n",
    "\n",
    "This way the function will receive a tuple of arguments, and can access the items accordingly:"
   ]
  },
  {
   "cell_type": "code",
   "execution_count": null,
   "metadata": {
    "id": "glHrZMdYZdMs"
   },
   "outputs": [],
   "source": [
    "def my_function(*args):\n",
    "  print(\"Fetching a args at postion [1] \" + args[1])\n",
    "\n",
    "my_function(\"Tanmay\", \"Rahul\", \"Kenny\")"
   ]
  },
  {
   "cell_type": "markdown",
   "metadata": {
    "id": "4VP3qHVPaSdP"
   },
   "source": [
    "### Arbitrary Keyword Arguments, **kwargs\n",
    "\n",
    "If you do not know how many keyword arguments that will be passed into your function, add two asterisk: ** before the parameter name in the function definition."
   ]
  },
  {
   "cell_type": "code",
   "execution_count": null,
   "metadata": {
    "id": "oqf6crsXaXNA"
   },
   "outputs": [],
   "source": [
    "def my_function(**kwargs):\n",
    "  \n",
    "  print(f\"His last name is  {kwargs.get('name','Bhatt')} \")\n",
    "\n",
    "my_function(fname = \"Tanmay\", lname = \"Bhatt\")"
   ]
  },
  {
   "cell_type": "code",
   "execution_count": null,
   "metadata": {
    "id": "2ghxMLo2e7nc"
   },
   "outputs": [],
   "source": [
    "def my_function(food):\n",
    "  for x in food:\n",
    "    print(x)\n",
    "\n",
    "fruits = [\"apple\", \"banana\", \"cherry\"]\n",
    "\n",
    "my_function(fruits)"
   ]
  },
  {
   "cell_type": "markdown",
   "metadata": {
    "id": "-3A1kdgafC8F"
   },
   "source": [
    "# **Returning** Values in Functions\n",
    "\n",
    "To let a function return a value, use the return statement:"
   ]
  },
  {
   "cell_type": "code",
   "execution_count": null,
   "metadata": {
    "id": "lIKOrL05fJ9I"
   },
   "outputs": [],
   "source": [
    "def my_function(x):\n",
    "  return 5 * x , 7 * x\n",
    "\n",
    "a1, _ = (my_function(9))\n",
    "b = (my_function(5))\n",
    "c = (my_function(9))"
   ]
  },
  {
   "cell_type": "code",
   "execution_count": null,
   "metadata": {
    "id": "ysBwRUQ5h-lF"
   },
   "outputs": [],
   "source": [
    "a1"
   ]
  },
  {
   "cell_type": "code",
   "execution_count": null,
   "metadata": {
    "id": "wQBEmkafhSMy"
   },
   "outputs": [],
   "source": [
    "a1, b, c"
   ]
  },
  {
   "cell_type": "code",
   "execution_count": null,
   "metadata": {
    "id": "h52aFJklfcXk"
   },
   "outputs": [],
   "source": [
    "# Pass keyword in Functions\n",
    "\n",
    "def myfunction():\n",
    "  pass"
   ]
  },
  {
   "cell_type": "markdown",
   "metadata": {
    "id": "OprYj17Lf4bJ"
   },
   "source": [
    "# **Recursion** with Function or function calling functions ♾\n",
    "\n",
    "Python also accepts function recursion, which means a defined function can call itself.\n",
    "\n",
    "Recursion is a common mathematical and programming concept. It means that a function calls itself. This has the benefit of meaning that you can loop through data to reach a result."
   ]
  },
  {
   "cell_type": "code",
   "execution_count": null,
   "metadata": {
    "id": "Atil-ORMgEU_"
   },
   "outputs": [],
   "source": [
    "def Recursion(k):\n",
    "  if(k > 0):\n",
    "    result = k + Recursion(k - 1)\n",
    "  else:\n",
    "    result = 0\n",
    "  print(result)\n",
    "  return result\n",
    "\n",
    "print(f\"\\nRecursion Example Results : {Recursion(6)}\")\n"
   ]
  },
  {
   "cell_type": "code",
   "execution_count": null,
   "metadata": {
    "colab": {
     "base_uri": "https://localhost:8080/"
    },
    "id": "IskkEUl13cRn",
    "outputId": "ea405631-37c4-4482-efb1-373b0682ff64"
   },
   "outputs": [
    {
     "name": "stdout",
     "output_type": "stream",
     "text": [
      "120\n"
     ]
    }
   ],
   "source": [
    "x = 5\n",
    "total = 1\n",
    "while x > 1:\n",
    "  total = total * x\n",
    "  x -=1\n",
    "print(total)"
   ]
  },
  {
   "cell_type": "code",
   "execution_count": null,
   "metadata": {
    "colab": {
     "base_uri": "https://localhost:8080/"
    },
    "id": "z4_WJbbx2i9i",
    "outputId": "76486eb3-d42a-4bfc-a0f7-0ae9e44fdf7a"
   },
   "outputs": [
    {
     "name": "stdout",
     "output_type": "stream",
     "text": [
      "120\n"
     ]
    }
   ],
   "source": [
    "def fact(x):\n",
    "  if x>1:\n",
    "    return x * fact(x-1) \n",
    "  else:\n",
    "    return 1\n",
    "\n",
    "print(fact(5))"
   ]
  },
  {
   "cell_type": "markdown",
   "metadata": {
    "id": "jECWgbL-j68o"
   },
   "source": [
    "# **Lamba Functions** in python 🧐\n",
    "\n",
    "A lambda function is a small anonymous function.\n",
    "\n",
    "A lambda function can take any number of arguments, but can only have one expression.\n",
    "\n"
   ]
  },
  {
   "cell_type": "code",
   "execution_count": null,
   "metadata": {
    "id": "uhHlMA9yjq1H"
   },
   "outputs": [],
   "source": [
    "x = lambda a : a + 10\n",
    "print(x(5))"
   ]
  },
  {
   "cell_type": "code",
   "execution_count": null,
   "metadata": {
    "id": "d3c4C1GFlpft"
   },
   "outputs": [],
   "source": [
    "x = lambda a, b : a * b\n",
    "print(x(5, 6))"
   ]
  },
  {
   "cell_type": "code",
   "execution_count": null,
   "metadata": {
    "id": "B1rrnuO9n9So"
   },
   "outputs": [],
   "source": [
    "x = lambda a, b, c : a + b + c\n",
    "print(x(5, 6, 2))"
   ]
  },
  {
   "cell_type": "code",
   "execution_count": null,
   "metadata": {
    "colab": {
     "base_uri": "https://localhost:8080/"
    },
    "id": "U-rVI0ECsLsO",
    "outputId": "e4525e93-cec2-439f-a349-8b51dded0c52"
   },
   "outputs": [
    {
     "name": "stdout",
     "output_type": "stream",
     "text": [
      "99\n"
     ]
    }
   ],
   "source": [
    "def myfunc(n):\n",
    "  return lambda a : a * n\n",
    "\n",
    "mytripler = myfunc(9)\n",
    "print(mytripler(11))"
   ]
  },
  {
   "cell_type": "code",
   "execution_count": null,
   "metadata": {
    "id": "3njaa0TBtwBP"
   },
   "outputs": [],
   "source": [
    "def relu(a):\n",
    "  if a > 0:\n",
    "    return a\n",
    "  else:\n",
    "    return 0 "
   ]
  },
  {
   "cell_type": "code",
   "execution_count": null,
   "metadata": {
    "id": "dkQA_DyAvTb2"
   },
   "outputs": [],
   "source": [
    "x = lambda a : a if a > 0 else 0"
   ]
  },
  {
   "cell_type": "code",
   "execution_count": null,
   "metadata": {
    "colab": {
     "base_uri": "https://localhost:8080/"
    },
    "id": "tWSQ2EBDt9u7",
    "outputId": "b60b12d4-4520-44c1-f3aa-dd0171198857"
   },
   "outputs": [
    {
     "data": {
      "text/plain": [
       "78"
      ]
     },
     "execution_count": 7,
     "metadata": {},
     "output_type": "execute_result"
    }
   ],
   "source": [
    "x(78)"
   ]
  },
  {
   "cell_type": "markdown",
   "metadata": {
    "id": "oCbFKBFbrxZF"
   },
   "source": [
    "# Python **Classes and Objects** ⭐"
   ]
  },
  {
   "cell_type": "code",
   "execution_count": null,
   "metadata": {
    "colab": {
     "base_uri": "https://localhost:8080/"
    },
    "id": "sU78jAY3oGaJ",
    "outputId": "0b456d84-024b-4a08-a836-0d51fdc67944"
   },
   "outputs": [
    {
     "data": {
      "text/plain": [
       "5"
      ]
     },
     "execution_count": 8,
     "metadata": {},
     "output_type": "execute_result"
    }
   ],
   "source": [
    "# Creating Class\n",
    "class MyClass:\n",
    "  x = 5\n",
    "  \n",
    "# Creating a class object\n",
    "MyClass().x"
   ]
  },
  {
   "cell_type": "code",
   "execution_count": null,
   "metadata": {
    "colab": {
     "base_uri": "https://localhost:8080/"
    },
    "id": "xSlB_sWXsywZ",
    "outputId": "1771968d-06e8-4424-884e-be49d9e15e70"
   },
   "outputs": [
    {
     "name": "stdout",
     "output_type": "stream",
     "text": [
      "5\n"
     ]
    }
   ],
   "source": [
    "mClass = MyClass()\n",
    "\n",
    "print(mClass.x)"
   ]
  },
  {
   "cell_type": "code",
   "execution_count": null,
   "metadata": {
    "colab": {
     "base_uri": "https://localhost:8080/"
    },
    "id": "Qe4i1EFNs6Or",
    "outputId": "4be4d5d6-3757-4836-ca66-8bbece9b2400"
   },
   "outputs": [
    {
     "name": "stdout",
     "output_type": "stream",
     "text": [
      "This is printing from myPrint function\n"
     ]
    }
   ],
   "source": [
    "class MyClass:\n",
    "  \n",
    "  def myPrint(self):\n",
    "    print(\"This is printing from myPrint function\")\n",
    "\n",
    "\n",
    "mClass = MyClass()\n",
    "mClass.myPrint()"
   ]
  },
  {
   "cell_type": "code",
   "execution_count": null,
   "metadata": {
    "colab": {
     "base_uri": "https://localhost:8080/"
    },
    "id": "Sa_UeBXpt8Vz",
    "outputId": "886198cd-02f2-4ad8-e74c-466772bcd0a9"
   },
   "outputs": [
    {
     "name": "stdout",
     "output_type": "stream",
     "text": [
      "Address of self =  139640656783120\n",
      "Address of class object =  139640656783120\n"
     ]
    }
   ],
   "source": [
    "class check:\n",
    "    tempVar = 0\n",
    "    def __init__(self,x = 0):\n",
    "        self.tempVar = x\n",
    "        print(\"Address of self = \",id(self))\n",
    " \n",
    "obj = check()\n",
    "print(\"Address of class object = \",id(obj))"
   ]
  },
  {
   "cell_type": "code",
   "execution_count": null,
   "metadata": {
    "colab": {
     "base_uri": "https://localhost:8080/"
    },
    "id": "nGFwozHcnFM9",
    "outputId": "4e449348-8388-4d01-c04f-5536596a667e"
   },
   "outputs": [
    {
     "name": "stdout",
     "output_type": "stream",
     "text": [
      "Address of self =  139640657385488\n",
      "Address of self =  139640657385680\n",
      "Address of self =  139640657383952\n"
     ]
    }
   ],
   "source": [
    "d = check()\n",
    "c = check(15)\n",
    "b = check()"
   ]
  },
  {
   "cell_type": "code",
   "execution_count": null,
   "metadata": {
    "colab": {
     "base_uri": "https://localhost:8080/"
    },
    "id": "-K_cKwrfzEfF",
    "outputId": "a369cdd1-7e49-443e-a523-394e9b38e7a4"
   },
   "outputs": [
    {
     "data": {
      "text/plain": [
       "15"
      ]
     },
     "execution_count": 24,
     "metadata": {},
     "output_type": "execute_result"
    }
   ],
   "source": [
    "c.tempVar"
   ]
  },
  {
   "cell_type": "code",
   "execution_count": null,
   "metadata": {
    "colab": {
     "base_uri": "https://localhost:8080/"
    },
    "id": "LDHdVDDWzG-5",
    "outputId": "6664adb3-3416-41b5-edb3-6fb650056807"
   },
   "outputs": [
    {
     "name": "stdout",
     "output_type": "stream",
     "text": [
      "Model is audi a4\n",
      "color is blue\n",
      "\n",
      "Model is ferrari 488\n",
      "color is green\n"
     ]
    }
   ],
   "source": [
    "class car():\n",
    "     \n",
    "    # init method or constructor\n",
    "    def __init__(self, model, color):\n",
    "        self.model = model\n",
    "        self.color = color\n",
    "         \n",
    "    def show(self):\n",
    "        print(\"Model is\", self.model )\n",
    "        print(\"color is\", self.color )\n",
    "         \n",
    "# both objects have different self which\n",
    "# contain their attributes\n",
    "audi = car(\"audi a4\", \"blue\")\n",
    "ferrari = car(\"ferrari 488\", \"green\")\n",
    " \n",
    "audi.show()     # same output as car.show(audi)\n",
    "print()\n",
    "ferrari.show()  # same output as car.show(ferrari)"
   ]
  },
  {
   "cell_type": "code",
   "execution_count": null,
   "metadata": {
    "colab": {
     "base_uri": "https://localhost:8080/"
    },
    "id": "Yoj6pzukzROG",
    "outputId": "8b3ff30c-0421-4b34-fade-cb75d7d0837d"
   },
   "outputs": [
    {
     "name": "stdout",
     "output_type": "stream",
     "text": [
      "This is Constructor\n",
      "Worked fine\n"
     ]
    }
   ],
   "source": [
    "class check:\n",
    "    def __init__(self):\n",
    "        print(\"This is Constructor\")\n",
    " \n",
    "obj = check()\n",
    "print(\"Worked fine\")"
   ]
  },
  {
   "cell_type": "code",
   "execution_count": null,
   "metadata": {
    "colab": {
     "base_uri": "https://localhost:8080/"
    },
    "id": "SmHJseHuzhGZ",
    "outputId": "929feb5e-8009-407c-a06d-030861efbe35"
   },
   "outputs": [
    {
     "name": "stdout",
     "output_type": "stream",
     "text": [
      "Hello, my name is Harsh Shah\n",
      "Hello, my name is Raj Patel\n"
     ]
    }
   ],
   "source": [
    "# A Sample class with init method\n",
    "class Person:\n",
    " \n",
    "    # init method or constructor\n",
    "    def __init__(self, name = \"Raj\", **kargs):\n",
    "        self.name = name\n",
    "        self.lName = kargs.get('lName', 'Shah')\n",
    " \n",
    "    # Sample Method\n",
    "    def say_hi(self):\n",
    "        print('Hello, my name is', self.name, self.lName)\n",
    " \n",
    " \n",
    "# Creating different objects\n",
    "p1 = Person(\"Harsh\")\n",
    "p2 = Person(lName = \"Patel\")\n",
    "#p3 = Person('Anshul')\n",
    " \n",
    "p1.say_hi()\n",
    "p2.say_hi()\n",
    "#p3.say_hi()"
   ]
  },
  {
   "cell_type": "markdown",
   "metadata": {
    "id": "bFuia_jKyFrL"
   },
   "source": [
    "# Exercise 🙆"
   ]
  },
  {
   "cell_type": "code",
   "execution_count": null,
   "metadata": {
    "id": "Sndz5TA7yYdl"
   },
   "outputs": [],
   "source": [
    "# Make a program to make a Calculator using function Operations [ + , - , * , / , % , log ]"
   ]
  },
  {
   "cell_type": "code",
   "execution_count": null,
   "metadata": {
    "id": "cdLcX-9z0EFi"
   },
   "outputs": [],
   "source": [
    "# Make a program to make a relu activation function using lambda function"
   ]
  },
  {
   "cell_type": "code",
   "execution_count": null,
   "metadata": {
    "id": "cYDdtaPZHXq5"
   },
   "outputs": [],
   "source": [
    "# Create a class which store student infomation like [ Name, Class, Degree, ( Marks of multiple subjects) ] \n",
    "# A global variable to store minimum passing marks \n",
    "# A function to calculate Percentage "
   ]
  },
  {
   "cell_type": "code",
   "execution_count": null,
   "metadata": {
    "id": "6Axa09v10Eh6"
   },
   "outputs": [],
   "source": [
    "# Create a class which stores list of numbers \n",
    "# Mutliple functions to calculate Mean, Median, Mode and Standard Diviation of given list "
   ]
  },
  {
   "cell_type": "code",
   "execution_count": null,
   "metadata": {
    "id": "XgT29HiS0ETM"
   },
   "outputs": [],
   "source": [
    "  # Create a class which store all the infomation of city like [ Name, State, Country, Currency, TimeZone ] and Internal Function to print it"
   ]
  }
 ],
 "metadata": {
  "colab": {
   "provenance": []
  },
  "kernelspec": {
   "display_name": "Python 3 (ipykernel)",
   "language": "python",
   "name": "python3"
  },
  "language_info": {
   "codemirror_mode": {
    "name": "ipython",
    "version": 3
   },
   "file_extension": ".py",
   "mimetype": "text/x-python",
   "name": "python",
   "nbconvert_exporter": "python",
   "pygments_lexer": "ipython3",
   "version": "3.9.6"
  }
 },
 "nbformat": 4,
 "nbformat_minor": 1
}
