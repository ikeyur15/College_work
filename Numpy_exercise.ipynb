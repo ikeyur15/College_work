{
 "cells": [
  {
   "cell_type": "code",
   "execution_count": 2,
   "id": "2cbd069f",
   "metadata": {},
   "outputs": [],
   "source": [
    "import numpy as np"
   ]
  },
  {
   "cell_type": "code",
   "execution_count": 3,
   "id": "f3b1ede4",
   "metadata": {},
   "outputs": [
    {
     "data": {
      "text/plain": [
       "array([0., 0., 0., 0., 0., 0., 0., 0., 0., 0.])"
      ]
     },
     "execution_count": 3,
     "metadata": {},
     "output_type": "execute_result"
    }
   ],
   "source": [
    "a1= np.zeros(10)\n",
    "a1"
   ]
  },
  {
   "cell_type": "code",
   "execution_count": 4,
   "id": "18f963c0",
   "metadata": {},
   "outputs": [
    {
     "data": {
      "text/plain": [
       "array(['a', 'e', 'i', 'o', 'u'], dtype='<U1')"
      ]
     },
     "execution_count": 4,
     "metadata": {},
     "output_type": "execute_result"
    }
   ],
   "source": [
    "a2= np.array(['a','e','i','o','u'])\n",
    "a2"
   ]
  },
  {
   "cell_type": "code",
   "execution_count": 5,
   "id": "0e982cd0",
   "metadata": {},
   "outputs": [
    {
     "data": {
      "text/plain": [
       "array([[1, 1, 1, 1, 1],\n",
       "       [1, 1, 1, 1, 1]], dtype=int64)"
      ]
     },
     "execution_count": 5,
     "metadata": {},
     "output_type": "execute_result"
    }
   ],
   "source": [
    "a3= np.ones(10,dtype= 'int64').reshape(2,5)\n",
    "a3"
   ]
  },
  {
   "cell_type": "code",
   "execution_count": 6,
   "id": "36756bcf",
   "metadata": {},
   "outputs": [
    {
     "ename": "NameError",
     "evalue": "name 'a' is not defined",
     "output_type": "error",
     "traceback": [
      "\u001b[1;31m---------------------------------------------------------------------------\u001b[0m",
      "\u001b[1;31mNameError\u001b[0m                                 Traceback (most recent call last)",
      "Input \u001b[1;32mIn [6]\u001b[0m, in \u001b[0;36m<cell line: 2>\u001b[1;34m()\u001b[0m\n\u001b[0;32m      1\u001b[0m a4 \u001b[38;5;241m=\u001b[39m np\u001b[38;5;241m.\u001b[39marray([\u001b[38;5;241m2.7\u001b[39m,\u001b[38;5;241m-\u001b[39m\u001b[38;5;241m2\u001b[39m,\u001b[38;5;241m-\u001b[39m\u001b[38;5;241m19.0\u001b[39m,\u001b[38;5;241m3.4\u001b[39m,\u001b[38;5;241m99.9\u001b[39m,\u001b[38;5;241m10.6\u001b[39m, \u001b[38;5;241m0\u001b[39m,\u001b[38;5;241m13\u001b[39m])\n\u001b[1;32m----> 2\u001b[0m a4_1 \u001b[38;5;241m=\u001b[39m np\u001b[38;5;241m.\u001b[39mresize(\u001b[43ma\u001b[49m, (\u001b[38;5;241m3\u001b[39m,\u001b[38;5;241m3\u001b[39m))\n\u001b[0;32m      3\u001b[0m \u001b[38;5;28mprint\u001b[39m(a4)\n\u001b[0;32m      4\u001b[0m \u001b[38;5;28mprint\u001b[39m(a4_1)\n",
      "\u001b[1;31mNameError\u001b[0m: name 'a' is not defined"
     ]
    }
   ],
   "source": [
    "a4 = np.array([2.7,-2,-19.0,3.4,99.9,10.6, 0,13])\n",
    "a4_1 = np.resize(a, (3,3))\n",
    "print(a4)\n",
    "print(a4_1)\n",
    "print(\"Dimention : \",a4_1.ndim)"
   ]
  },
  {
   "cell_type": "code",
   "execution_count": 7,
   "id": "d933473e",
   "metadata": {},
   "outputs": [
    {
     "data": {
      "text/plain": [
       "array([[ 4.,  8., 12., 16., 20.],\n",
       "       [24., 28., 32., 36., 40.],\n",
       "       [44., 48., 52., 56., 60.]], dtype=float32)"
      ]
     },
     "execution_count": 7,
     "metadata": {},
     "output_type": "execute_result"
    }
   ],
   "source": [
    "a5 = np.arange(4,62,4, dtype='float32').reshape(3,5)\n",
    "a5"
   ]
  },
  {
   "cell_type": "code",
   "execution_count": 8,
   "id": "4b26914a",
   "metadata": {},
   "outputs": [
    {
     "data": {
      "text/plain": [
       "array([1, 1, 1, 1, 1, 1, 1, 1, 1, 1], dtype=int64)"
      ]
     },
     "execution_count": 8,
     "metadata": {},
     "output_type": "execute_result"
    }
   ],
   "source": [
    "b2 = a3.reshape(-1)\n",
    "b2"
   ]
  },
  {
   "cell_type": "code",
   "execution_count": 9,
   "id": "fb226afd",
   "metadata": {},
   "outputs": [
    {
     "data": {
      "text/plain": [
       "array(['e', 'i'], dtype='<U1')"
      ]
     },
     "execution_count": 9,
     "metadata": {},
     "output_type": "execute_result"
    }
   ],
   "source": [
    "b3= a2[1:3]\n",
    "b3"
   ]
  },
  {
   "cell_type": "code",
   "execution_count": 10,
   "id": "689f1d06",
   "metadata": {},
   "outputs": [
    {
     "ename": "NameError",
     "evalue": "name 'myarray1' is not defined",
     "output_type": "error",
     "traceback": [
      "\u001b[1;31m---------------------------------------------------------------------------\u001b[0m",
      "\u001b[1;31mNameError\u001b[0m                                 Traceback (most recent call last)",
      "Input \u001b[1;32mIn [10]\u001b[0m, in \u001b[0;36m<cell line: 1>\u001b[1;34m()\u001b[0m\n\u001b[1;32m----> 1\u001b[0m b4 \u001b[38;5;241m=\u001b[39m \u001b[43mmyarray1\u001b[49m[\u001b[38;5;241m1\u001b[39m:,\u001b[38;5;241m0\u001b[39m:]\n\u001b[0;32m      2\u001b[0m b4\n",
      "\u001b[1;31mNameError\u001b[0m: name 'myarray1' is not defined"
     ]
    }
   ],
   "source": [
    "b4 = myarray1[1:,0:]\n",
    "b4"
   ]
  },
  {
   "cell_type": "code",
   "execution_count": 11,
   "id": "c1c6a2b7",
   "metadata": {},
   "outputs": [
    {
     "ename": "NameError",
     "evalue": "name 'myarray1' is not defined",
     "output_type": "error",
     "traceback": [
      "\u001b[1;31m---------------------------------------------------------------------------\u001b[0m",
      "\u001b[1;31mNameError\u001b[0m                                 Traceback (most recent call last)",
      "Input \u001b[1;32mIn [11]\u001b[0m, in \u001b[0;36m<cell line: 1>\u001b[1;34m()\u001b[0m\n\u001b[1;32m----> 1\u001b[0m b5 \u001b[38;5;241m=\u001b[39m \u001b[43mmyarray1\u001b[49m[\u001b[38;5;241m0\u001b[39m:,\u001b[38;5;241m0\u001b[39m:\u001b[38;5;241m2\u001b[39m]\n\u001b[0;32m      2\u001b[0m b5\n",
      "\u001b[1;31mNameError\u001b[0m: name 'myarray1' is not defined"
     ]
    }
   ],
   "source": [
    "b5 = myarray1[0:,0:2]\n",
    "b5"
   ]
  },
  {
   "cell_type": "code",
   "execution_count": 12,
   "id": "64facce4",
   "metadata": {},
   "outputs": [
    {
     "ename": "NameError",
     "evalue": "name 'myarray1' is not defined",
     "output_type": "error",
     "traceback": [
      "\u001b[1;31m---------------------------------------------------------------------------\u001b[0m",
      "\u001b[1;31mNameError\u001b[0m                                 Traceback (most recent call last)",
      "Input \u001b[1;32mIn [12]\u001b[0m, in \u001b[0;36m<cell line: 1>\u001b[1;34m()\u001b[0m\n\u001b[1;32m----> 1\u001b[0m b6 \u001b[38;5;241m=\u001b[39m \u001b[43mmyarray1\u001b[49m[\u001b[38;5;241m1\u001b[39m:,\u001b[38;5;241m0\u001b[39m:\u001b[38;5;241m1\u001b[39m]\n\u001b[0;32m      2\u001b[0m b6\n",
      "\u001b[1;31mNameError\u001b[0m: name 'myarray1' is not defined"
     ]
    }
   ],
   "source": [
    "b6 = myarray1[1:,0:1]\n",
    "b6"
   ]
  },
  {
   "cell_type": "code",
   "execution_count": 13,
   "id": "82801d16",
   "metadata": {},
   "outputs": [
    {
     "data": {
      "text/plain": [
       "array(['u', 'o', 'i', 'e', 'a'], dtype='<U1')"
      ]
     },
     "execution_count": 13,
     "metadata": {},
     "output_type": "execute_result"
    }
   ],
   "source": [
    "b7 =a2[::-1] \n",
    "b7"
   ]
  },
  {
   "cell_type": "code",
   "execution_count": 14,
   "id": "c69f6355",
   "metadata": {},
   "outputs": [
    {
     "data": {
      "text/plain": [
       "array(['u', 'o', 'i', 'e', 'a'], dtype='<U1')"
      ]
     },
     "execution_count": 14,
     "metadata": {},
     "output_type": "execute_result"
    }
   ],
   "source": [
    "b7 =np.flipud(a2)\n",
    "b7"
   ]
  },
  {
   "cell_type": "code",
   "execution_count": 15,
   "id": "db68dee5",
   "metadata": {},
   "outputs": [
    {
     "data": {
      "text/plain": [
       "array(['a', 'e', 'i', 'o', 'u', 'a', 'e', 'i', 'o', 'u', 'a', 'e', 'i',\n",
       "       'o', 'u', 'a', 'e', 'i', 'o', 'u'], dtype='<U1')"
      ]
     },
     "execution_count": 15,
     "metadata": {},
     "output_type": "execute_result"
    }
   ],
   "source": [
    "np.tile(a2,4)"
   ]
  },
  {
   "cell_type": "code",
   "execution_count": 16,
   "id": "1e32fce8",
   "metadata": {},
   "outputs": [
    {
     "data": {
      "text/plain": [
       "array([[0, 0, 0, 0, 0],\n",
       "       [0, 0, 0, 0, 0]], dtype=int64)"
      ]
     },
     "execution_count": 16,
     "metadata": {},
     "output_type": "execute_result"
    }
   ],
   "source": [
    "c1= a3//3\n",
    "c1"
   ]
  },
  {
   "cell_type": "code",
   "execution_count": 17,
   "id": "f3213297",
   "metadata": {},
   "outputs": [
    {
     "data": {
      "text/plain": [
       "array([ 4,  6,  8, 12, 14])"
      ]
     },
     "execution_count": 17,
     "metadata": {},
     "output_type": "execute_result"
    }
   ],
   "source": [
    "c2= np.array([1,2,3,4,5])\n",
    "c_2 = np.array([3,4,5,8,9])\n",
    "\n",
    "cc= c2+c_2\n",
    "cc\n"
   ]
  },
  {
   "cell_type": "code",
   "execution_count": 18,
   "id": "622b8416",
   "metadata": {},
   "outputs": [
    {
     "data": {
      "text/plain": [
       "array([-2, -2, -2, -4, -4])"
      ]
     },
     "execution_count": 18,
     "metadata": {},
     "output_type": "execute_result"
    }
   ],
   "source": [
    "c3 = c2-c_2\n",
    "c3"
   ]
  },
  {
   "cell_type": "code",
   "execution_count": 19,
   "id": "a91ba05f",
   "metadata": {},
   "outputs": [
    {
     "data": {
      "text/plain": [
       "array([ 3,  8, 15, 32, 45])"
      ]
     },
     "execution_count": 19,
     "metadata": {},
     "output_type": "execute_result"
    }
   ],
   "source": [
    "c4 =  c2*c_2\n",
    "c4"
   ]
  },
  {
   "cell_type": "code",
   "execution_count": 20,
   "id": "85cb40d1",
   "metadata": {},
   "outputs": [
    {
     "data": {
      "text/plain": [
       "array([0.33333333, 0.5       , 0.6       , 0.5       , 0.55555556])"
      ]
     },
     "execution_count": 20,
     "metadata": {},
     "output_type": "execute_result"
    }
   ],
   "source": [
    "c6= c2/c_2\n",
    "c6"
   ]
  },
  {
   "cell_type": "code",
   "execution_count": 21,
   "id": "d5f90cc7",
   "metadata": {},
   "outputs": [
    {
     "name": "stdout",
     "output_type": "stream",
     "text": [
      "[1 2 3 4 5]\n",
      "[ 3  6  9 12 15]\n",
      "[1.5 3.  4.5 6.  7.5]\n"
     ]
    }
   ],
   "source": [
    "print(c2)\n",
    "c7 = (c2*3)\n",
    "print(c7)\n",
    "print(c7/2)"
   ]
  },
  {
   "cell_type": "code",
   "execution_count": 22,
   "id": "63cfa943",
   "metadata": {},
   "outputs": [
    {
     "data": {
      "text/plain": [
       "array([[1, 1],\n",
       "       [1, 1],\n",
       "       [1, 1],\n",
       "       [1, 1],\n",
       "       [1, 1]], dtype=int64)"
      ]
     },
     "execution_count": 22,
     "metadata": {},
     "output_type": "execute_result"
    }
   ],
   "source": [
    "d1= a3.transpose()\n",
    "d1"
   ]
  },
  {
   "cell_type": "code",
   "execution_count": 23,
   "id": "8e074c92",
   "metadata": {},
   "outputs": [
    {
     "ename": "NameError",
     "evalue": "name 'a4_1' is not defined",
     "output_type": "error",
     "traceback": [
      "\u001b[1;31m---------------------------------------------------------------------------\u001b[0m",
      "\u001b[1;31mNameError\u001b[0m                                 Traceback (most recent call last)",
      "Input \u001b[1;32mIn [23]\u001b[0m, in \u001b[0;36m<cell line: 1>\u001b[1;34m()\u001b[0m\n\u001b[1;32m----> 1\u001b[0m d3 \u001b[38;5;241m=\u001b[39mnp\u001b[38;5;241m.\u001b[39msort(\u001b[43ma4_1\u001b[49m,axis \u001b[38;5;241m=\u001b[39m \u001b[38;5;241m1\u001b[39m)\n\u001b[0;32m      2\u001b[0m d3\n",
      "\u001b[1;31mNameError\u001b[0m: name 'a4_1' is not defined"
     ]
    }
   ],
   "source": [
    "d3 =np.sort(a4_1,axis = 1)\n",
    "d3"
   ]
  },
  {
   "cell_type": "code",
   "execution_count": 24,
   "id": "06cb3c83",
   "metadata": {},
   "outputs": [
    {
     "data": {
      "text/plain": [
       "array([[ 4.,  8., 12., 16., 20.],\n",
       "       [24., 28., 32., 36., 40.],\n",
       "       [44., 48., 52., 56., 60.]], dtype=float32)"
      ]
     },
     "execution_count": 24,
     "metadata": {},
     "output_type": "execute_result"
    }
   ],
   "source": [
    "a5"
   ]
  },
  {
   "cell_type": "code",
   "execution_count": 25,
   "id": "2c20d3fc",
   "metadata": {},
   "outputs": [
    {
     "name": "stdout",
     "output_type": "stream",
     "text": [
      "[[ 4.]\n",
      " [24.]\n",
      " [44.]]\n",
      "[[ 8.]\n",
      " [28.]\n",
      " [48.]]\n",
      "[[12.]\n",
      " [32.]\n",
      " [52.]]\n",
      "[[16.]\n",
      " [36.]\n",
      " [56.]]\n",
      "[[20.]\n",
      " [40.]\n",
      " [60.]]\n"
     ]
    }
   ],
   "source": [
    "myarray2A,myarray2B,myarray2C,myarray2D,myarray2E = np.split(a5,5,axis = 1)\n",
    "print(myarray2A)\n",
    "print(myarray2B)\n",
    "print(myarray2C)\n",
    "print(myarray2D)\n",
    "print(myarray2E)\n"
   ]
  },
  {
   "cell_type": "code",
   "execution_count": 29,
   "id": "e53d3ae0",
   "metadata": {},
   "outputs": [
    {
     "name": "stdout",
     "output_type": "stream",
     "text": [
      "[0. 0.]\n"
     ]
    }
   ],
   "source": [
    "zerosA,zerosB,zerosC,zerosD,e= np.split(a1,[2,5,7,8])\n",
    "print(zerosA)"
   ]
  },
  {
   "cell_type": "code",
   "execution_count": 173,
   "id": "904bc9c9",
   "metadata": {},
   "outputs": [
    {
     "name": "stdout",
     "output_type": "stream",
     "text": [
      "please give a number : 567\n",
      "7\n",
      "56 \n",
      "\n",
      "76\n",
      "5 \n",
      "\n",
      "765\n",
      "0 \n",
      "\n"
     ]
    }
   ],
   "source": [
    "n = int(input(\"please give a number : \"))\n",
    "\n",
    "reverse = 0\n",
    "while n!=0:\n",
    "    reverse = reverse*10 + n%10 #0+7=7  #70+6=76\n",
    "    print(reverse)\n",
    "    n = (n//10) #56 #5 \n",
    "    print(n,\"\\n\")\n",
    "# print(\"After reverse :\",reverse)"
   ]
  },
  {
   "cell_type": "code",
   "execution_count": 176,
   "id": "4dbf710a",
   "metadata": {},
   "outputs": [
    {
     "name": "stdout",
     "output_type": "stream",
     "text": [
      "enter number: 234\n",
      "4\n",
      "23\n",
      "43\n",
      "2\n",
      "432\n",
      "0\n",
      "output =  432\n"
     ]
    }
   ],
   "source": []
  },
  {
   "cell_type": "code",
   "execution_count": 178,
   "id": "46ee49bb",
   "metadata": {},
   "outputs": [],
   "source": [
    "import pandas as pd\n"
   ]
  },
  {
   "cell_type": "code",
   "execution_count": 181,
   "id": "12bca5f9",
   "metadata": {},
   "outputs": [
    {
     "data": {
      "text/plain": [
       "0     4\n",
       "1     4\n",
       "2     4\n",
       "3     3\n",
       "4     6\n",
       "5     5\n",
       "6    65\n",
       "dtype: int64"
      ]
     },
     "execution_count": 181,
     "metadata": {},
     "output_type": "execute_result"
    }
   ],
   "source": [
    "a =pd.Series([4,4,4,3,6,5,65])\n",
    "a"
   ]
  },
  {
   "cell_type": "code",
   "execution_count": 182,
   "id": "cfd69d7e",
   "metadata": {},
   "outputs": [
    {
     "data": {
      "text/plain": [
       "3    3\n",
       "0    4\n",
       "1    4\n",
       "2    4\n",
       "5    5\n",
       "dtype: int64"
      ]
     },
     "execution_count": 182,
     "metadata": {},
     "output_type": "execute_result"
    }
   ],
   "source": [
    "a.nsmallest()"
   ]
  },
  {
   "cell_type": "code",
   "execution_count": 183,
   "id": "6e3ca2cf",
   "metadata": {},
   "outputs": [
    {
     "data": {
      "text/plain": [
       "6    65\n",
       "4     6\n",
       "5     5\n",
       "0     4\n",
       "1     4\n",
       "dtype: int64"
      ]
     },
     "execution_count": 183,
     "metadata": {},
     "output_type": "execute_result"
    }
   ],
   "source": [
    "a.nlargest()"
   ]
  },
  {
   "cell_type": "code",
   "execution_count": 184,
   "id": "6167d5a4",
   "metadata": {},
   "outputs": [
    {
     "data": {
      "text/plain": [
       "3     3\n",
       "0     4\n",
       "1     4\n",
       "2     4\n",
       "5     5\n",
       "4     6\n",
       "6    65\n",
       "dtype: int64"
      ]
     },
     "execution_count": 184,
     "metadata": {},
     "output_type": "execute_result"
    }
   ],
   "source": [
    "a.sort_values()"
   ]
  },
  {
   "cell_type": "code",
   "execution_count": 4,
   "id": "8961cef1",
   "metadata": {},
   "outputs": [],
   "source": [
    "import sklearn"
   ]
  },
  {
   "cell_type": "code",
   "execution_count": 5,
   "id": "ea04d224",
   "metadata": {},
   "outputs": [
    {
     "data": {
      "text/plain": [
       "'1.0.2'"
      ]
     },
     "execution_count": 5,
     "metadata": {},
     "output_type": "execute_result"
    }
   ],
   "source": [
    "sklearn.__version__"
   ]
  },
  {
   "cell_type": "code",
   "execution_count": 4,
   "id": "9d214793",
   "metadata": {},
   "outputs": [
    {
     "name": "stdout",
     "output_type": "stream",
     "text": [
      "Requirement already satisfied: seaborn in c:\\users\\keyur prajapati\\appdata\\local\\programs\\python\\python39\\lib\\site-packages (0.11.2)\n",
      "Requirement already satisfied: numpy>=1.15 in c:\\users\\keyur prajapati\\appdata\\local\\programs\\python\\python39\\lib\\site-packages (from seaborn) (1.22.3)\n",
      "Requirement already satisfied: scipy>=1.0 in c:\\users\\keyur prajapati\\appdata\\local\\programs\\python\\python39\\lib\\site-packages (from seaborn) (1.8.0)\n",
      "Requirement already satisfied: matplotlib>=2.2 in c:\\users\\keyur prajapati\\appdata\\local\\programs\\python\\python39\\lib\\site-packages (from seaborn) (3.5.1)\n",
      "Requirement already satisfied: pandas>=0.23 in c:\\users\\keyur prajapati\\appdata\\local\\programs\\python\\python39\\lib\\site-packages (from seaborn) (1.4.1)\n",
      "Requirement already satisfied: kiwisolver>=1.0.1 in c:\\users\\keyur prajapati\\appdata\\local\\programs\\python\\python39\\lib\\site-packages (from matplotlib>=2.2->seaborn) (1.3.2)\n",
      "Requirement already satisfied: pillow>=6.2.0 in c:\\users\\keyur prajapati\\appdata\\local\\programs\\python\\python39\\lib\\site-packages (from matplotlib>=2.2->seaborn) (9.0.1)\n",
      "Requirement already satisfied: packaging>=20.0 in c:\\users\\keyur prajapati\\appdata\\local\\programs\\python\\python39\\lib\\site-packages (from matplotlib>=2.2->seaborn) (21.3)\n",
      "Requirement already satisfied: pyparsing>=2.2.1 in c:\\users\\keyur prajapati\\appdata\\local\\programs\\python\\python39\\lib\\site-packages (from matplotlib>=2.2->seaborn) (3.0.7)\n",
      "Requirement already satisfied: cycler>=0.10 in c:\\users\\keyur prajapati\\appdata\\local\\programs\\python\\python39\\lib\\site-packages (from matplotlib>=2.2->seaborn) (0.11.0)\n",
      "Requirement already satisfied: python-dateutil>=2.7 in c:\\users\\keyur prajapati\\appdata\\local\\programs\\python\\python39\\lib\\site-packages (from matplotlib>=2.2->seaborn) (2.8.2)\n",
      "Requirement already satisfied: fonttools>=4.22.0 in c:\\users\\keyur prajapati\\appdata\\local\\programs\\python\\python39\\lib\\site-packages (from matplotlib>=2.2->seaborn) (4.30.0)\n",
      "Requirement already satisfied: pytz>=2020.1 in c:\\users\\keyur prajapati\\appdata\\local\\programs\\python\\python39\\lib\\site-packages (from pandas>=0.23->seaborn) (2021.3)\n",
      "Requirement already satisfied: six>=1.5 in c:\\users\\keyur prajapati\\appdata\\local\\programs\\python\\python39\\lib\\site-packages (from python-dateutil>=2.7->matplotlib>=2.2->seaborn) (1.16.0)\n",
      "Note: you may need to restart the kernel to use updated packages.\n"
     ]
    }
   ],
   "source": [
    "pip install seaborn"
   ]
  },
  {
   "cell_type": "code",
   "execution_count": 6,
   "id": "90b1c089",
   "metadata": {},
   "outputs": [
    {
     "data": {
      "text/plain": [
       "'0.11.2'"
      ]
     },
     "execution_count": 6,
     "metadata": {},
     "output_type": "execute_result"
    }
   ],
   "source": [
    "import seaborn\n",
    "seaborn.__version__"
   ]
  },
  {
   "cell_type": "code",
   "execution_count": null,
   "id": "6227d4c4",
   "metadata": {},
   "outputs": [],
   "source": []
  }
 ],
 "metadata": {
  "kernelspec": {
   "display_name": "Python 3 (ipykernel)",
   "language": "python",
   "name": "python3"
  },
  "language_info": {
   "codemirror_mode": {
    "name": "ipython",
    "version": 3
   },
   "file_extension": ".py",
   "mimetype": "text/x-python",
   "name": "python",
   "nbconvert_exporter": "python",
   "pygments_lexer": "ipython3",
   "version": "3.9.6"
  }
 },
 "nbformat": 4,
 "nbformat_minor": 5
}
