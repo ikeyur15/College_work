{
 "cells": [
  {
   "cell_type": "code",
   "execution_count": null,
   "metadata": {
    "id": "3eUxmikxtQv9"
   },
   "outputs": [],
   "source": [
    "import string"
   ]
  },
  {
   "cell_type": "markdown",
   "metadata": {
    "id": "VupAk-uKkeG1"
   },
   "source": [
    "# **Doc Strings** ✏\n",
    "\n",
    "Python documentation strings (or docstrings) provide a convenient way of associating documentation with Python modules, functions, classes, and methods.\n",
    "\n",
    "It’s specified in source code that is used, like a comment, to document a specific segment of code. Unlike conventional source code comments, the docstring should describe what the function does, not how."
   ]
  },
  {
   "cell_type": "markdown",
   "metadata": {
    "id": "huYXS0yslv8z"
   },
   "source": [
    "## One-line Docstrings"
   ]
  },
  {
   "cell_type": "code",
   "execution_count": null,
   "metadata": {
    "id": "fsZdvj5FkiBd"
   },
   "outputs": [],
   "source": [
    "def my_function():\n",
    "    '''Demonstrates triple double quotes\n",
    "    docstrings and does nothing really.'''\n",
    "\n",
    "   \n",
    "    return None\n",
    "  \n",
    "print(\"Using __doc__:\")\n",
    "print(my_function.__doc__)\n",
    "  \n",
    "print(\"Using help:\")\n",
    "help(my_function)"
   ]
  },
  {
   "cell_type": "code",
   "execution_count": null,
   "metadata": {
    "id": "hqMP4oG3lpgr"
   },
   "outputs": [],
   "source": [
    "def power(a, b):\n",
    "    \"\"\"Returns arg1 raised to power arg2.\"\"\"\n",
    "   \n",
    "    return a**b"
   ]
  },
  {
   "cell_type": "code",
   "execution_count": null,
   "metadata": {
    "id": "hhBdIKG2lsoa"
   },
   "outputs": [],
   "source": [
    "print(power.__doc__)"
   ]
  },
  {
   "cell_type": "markdown",
   "metadata": {
    "id": "mh2II-K9l9ky"
   },
   "source": [
    "## Multi-line Docstrings"
   ]
  },
  {
   "cell_type": "code",
   "execution_count": null,
   "metadata": {
    "id": "xj47zxZomBop"
   },
   "outputs": [],
   "source": [
    "def my_function(arg1):\n",
    "    \"\"\"\n",
    "    Summary line.\n",
    "  \n",
    "    Extended description of function.\n",
    "  \n",
    "    Parameters:\n",
    "    arg1 (int): Description of arg1\n",
    "  \n",
    "    Returns:\n",
    "    int: Description of return value\n",
    "  \n",
    "    \"\"\"\n",
    "  \n",
    "    return arg1\n",
    "\n",
    "\n",
    "\n",
    "print(my_function.__doc__)\n",
    "my_function()"
   ]
  },
  {
   "cell_type": "markdown",
   "metadata": {
    "id": "PzwfS4NemRdP"
   },
   "source": [
    "## Docstrings in Classes\n",
    "\n",
    "Let us take an example to show how to write docstrings for a class and its methods. help is used to access the docstring."
   ]
  },
  {
   "cell_type": "code",
   "execution_count": null,
   "metadata": {
    "id": "ZA9fXmO4mQkp"
   },
   "outputs": [],
   "source": [
    "class ComplexNumber:\n",
    "    \"\"\"\n",
    "    This is a class for mathematical operations on complex numbers.\n",
    "      \n",
    "    Attributes:\n",
    "        real (int): The real part of complex number.\n",
    "        imag (int): The imaginary part of complex number.\n",
    "    \"\"\"\n",
    "  \n",
    "    def __init__(self, real, imag):\n",
    "        \"\"\"\n",
    "        The constructor for ComplexNumber class.\n",
    "  \n",
    "        Parameters:\n",
    "           real (int): The real part of complex number.\n",
    "           imag (int): The imaginary part of complex number.   \n",
    "        \"\"\"\n",
    "  \n",
    "    def add(self, num):\n",
    "        \"\"\"\n",
    "        The function to add two Complex Numbers.\n",
    "  \n",
    "        Parameters:\n",
    "            num (ComplexNumber): The complex number to be added.\n",
    "          \n",
    "        Returns:\n",
    "            ComplexNumber: A complex number which contains the sum.\n",
    "        \"\"\"\n",
    "  \n",
    "        re = self.real + num.real\n",
    "        im = self.imag + num.imag\n",
    "  \n",
    "        return ComplexNumber(re, im)\n"
   ]
  },
  {
   "cell_type": "code",
   "execution_count": null,
   "metadata": {
    "id": "fiBGgaWAmhw_"
   },
   "outputs": [],
   "source": [
    "help(ComplexNumber)  # to access Class docstring"
   ]
  },
  {
   "cell_type": "code",
   "execution_count": null,
   "metadata": {
    "id": "uEagzruUmj0H"
   },
   "outputs": [],
   "source": [
    "help(ComplexNumber.add)  # to access method's docstring"
   ]
  },
  {
   "cell_type": "markdown",
   "metadata": {
    "id": "sn86ELa8kjJh"
   },
   "source": [
    "# **Raw Literals** 🤨\n",
    "\n",
    "In Python, when you prefix a string with the letter r or R such as r'...' and R'...', that string becomes a raw string. Unlike a regular string, a raw string treats the backslashes (\\) as literal characters."
   ]
  },
  {
   "cell_type": "code",
   "execution_count": null,
   "metadata": {
    "id": "LzEV1roZkmwd"
   },
   "outputs": [],
   "source": [
    "s = 'lang\\tver\\nPython\\t3'\n",
    "print(s)"
   ]
  },
  {
   "cell_type": "code",
   "execution_count": null,
   "metadata": {
    "id": "ZsGyVseRnLa4"
   },
   "outputs": [],
   "source": [
    "s = r'lang\\tver\\nPython\\t3'\n",
    "print(s)"
   ]
  },
  {
   "cell_type": "code",
   "execution_count": null,
   "metadata": {
    "id": "O0ocUYN0nVd0"
   },
   "outputs": [],
   "source": [
    "s1 = r'lang\\tver\\nPython\\t3'\n",
    "s2 = 'lang\\\\tver\\\\nPython\\\\t3'\n",
    "\n",
    "print(s1 == s2)"
   ]
  },
  {
   "cell_type": "code",
   "execution_count": null,
   "metadata": {
    "id": "kQ_raD9Mq1DC"
   },
   "outputs": [],
   "source": [
    "s = '\\n'\n",
    "print(len(s))"
   ]
  },
  {
   "cell_type": "code",
   "execution_count": null,
   "metadata": {
    "id": "7f-qP4Tlq3Yt"
   },
   "outputs": [],
   "source": [
    "s = r'\\n'\n",
    "print(len(s))"
   ]
  },
  {
   "cell_type": "code",
   "execution_count": null,
   "metadata": {
    "id": "9QW3ndgyq3el"
   },
   "outputs": [],
   "source": [
    "s = r'Hello\\\\'\n",
    "s"
   ]
  },
  {
   "cell_type": "code",
   "execution_count": null,
   "metadata": {
    "id": "cukr7czjq4It"
   },
   "outputs": [],
   "source": [
    "# real case scenario\n",
    "dir_path = 'c:\\\\user\\tasks\\new'\n",
    "print(dir_path)"
   ]
  },
  {
   "cell_type": "code",
   "execution_count": null,
   "metadata": {
    "id": "Rww9jtliq4ON"
   },
   "outputs": [],
   "source": [
    "dir_path = r'c:\\\\user\\tasks\\new'\n",
    "print(dir_path)"
   ]
  },
  {
   "cell_type": "code",
   "execution_count": null,
   "metadata": {
    "id": "gadqjSnyre-o"
   },
   "outputs": [],
   "source": [
    "s = '\\n'\n",
    "raw_string = repr(s)\n",
    "\n",
    "print(raw_string)"
   ]
  },
  {
   "cell_type": "markdown",
   "metadata": {
    "id": "N3fXMnFwkuhr"
   },
   "source": [
    "# **Data Attributes and Properties**"
   ]
  },
  {
   "cell_type": "markdown",
   "metadata": {
    "id": "zaUtAUIdwTWU"
   },
   "source": [
    "## **Private Variables** in python\n",
    "\n",
    "In Python, there is no existence of “Private” instance variables that cannot be accessed except inside an object\n",
    "However, a convention is being followed by most Python code and coders "
   ]
  },
  {
   "cell_type": "code",
   "execution_count": null,
   "metadata": {
    "id": "KNhGRkjrktEG"
   },
   "outputs": [],
   "source": [
    "class a:\n",
    "  _hello = 90\n",
    "  world = 10\n",
    "  def get_hello(self):\n",
    "    return self._hello"
   ]
  },
  {
   "cell_type": "code",
   "execution_count": null,
   "metadata": {
    "id": "TT4zlHgIsTbw"
   },
   "outputs": [],
   "source": [
    "obj = a()"
   ]
  },
  {
   "cell_type": "code",
   "execution_count": null,
   "metadata": {
    "id": "3k3zqXsbyf81"
   },
   "outputs": [],
   "source": [
    "obj._get_hello()"
   ]
  },
  {
   "cell_type": "code",
   "execution_count": null,
   "metadata": {
    "id": "CKt_VcMoyxbw"
   },
   "outputs": [],
   "source": [
    "obj.world"
   ]
  },
  {
   "cell_type": "code",
   "execution_count": null,
   "metadata": {
    "id": "XOy-lhXWsWQ8"
   },
   "outputs": [],
   "source": [
    "obj._hello"
   ]
  },
  {
   "cell_type": "markdown",
   "metadata": {
    "id": "Bgsh4YJaknTE"
   },
   "source": [
    "# **Getters & Setter** vs **Properties** 🤜\n",
    "\n",
    "In Python, getters and setters are not the same as those in other object-oriented programming languages. Basically, the main purpose of using getters and setters in object-oriented programs is to ensure data encapsulation. Private variables in python are not actually hidden fields like in other object oriented languages. Getters and Setters in python are often used when"
   ]
  },
  {
   "cell_type": "code",
   "execution_count": null,
   "metadata": {
    "id": "8MLtRB5Vq3Cw"
   },
   "outputs": [],
   "source": [
    "# Using normal function to achieve getters and setters behaviour\n",
    "\n",
    "# Python program showing a use\n",
    "# of get() and set() method in\n",
    "# normal function\n",
    "\n",
    "class Geek:\n",
    "\t_age = 0\n",
    "\n",
    "\t# getter method\n",
    "\tdef get_age(self):\n",
    "\t\treturn self._age\n",
    "\t\n",
    "\t# setter method\n",
    "\tdef set_age(self, x):\n",
    "\t\tself._age = x\n",
    "\n",
    "obj = Geek()"
   ]
  },
  {
   "cell_type": "code",
   "execution_count": null,
   "metadata": {
    "id": "_22azeOXnBus"
   },
   "outputs": [],
   "source": [
    "obj.set_age(88)"
   ]
  },
  {
   "cell_type": "code",
   "execution_count": null,
   "metadata": {
    "id": "9iiAvudlnPgF"
   },
   "outputs": [],
   "source": [
    "obj.get_age()"
   ]
  },
  {
   "cell_type": "code",
   "execution_count": null,
   "metadata": {
    "id": "y2APBPVClbhV"
   },
   "outputs": [],
   "source": [
    "class b:\n",
    "  _g = 0\n",
    "x = b()"
   ]
  },
  {
   "cell_type": "code",
   "execution_count": null,
   "metadata": {
    "id": "EIiaNGMOkNue"
   },
   "outputs": [],
   "source": [
    "x._g"
   ]
  },
  {
   "cell_type": "code",
   "execution_count": null,
   "metadata": {
    "id": "F8M6ATe2jkVe"
   },
   "outputs": [],
   "source": [
    "obj.get_age()"
   ]
  },
  {
   "cell_type": "code",
   "execution_count": null,
   "metadata": {
    "id": "7sB6kPBeq3J8"
   },
   "outputs": [],
   "source": [
    "# setting the age using setter\n",
    "obj.set_age(21)"
   ]
  },
  {
   "cell_type": "code",
   "execution_count": null,
   "metadata": {
    "id": "DKLy3AQ5t2Ll"
   },
   "outputs": [],
   "source": [
    "# retrieving age using getter\n",
    "print(obj.get_age())"
   ]
  },
  {
   "cell_type": "code",
   "execution_count": null,
   "metadata": {
    "id": "36Gdazwlt3Xn"
   },
   "outputs": [],
   "source": [
    "print(obj._age)"
   ]
  },
  {
   "cell_type": "markdown",
   "metadata": {
    "id": "JPsrD29B4I84"
   },
   "source": [
    "## **Property** keyword in Python"
   ]
  },
  {
   "cell_type": "code",
   "execution_count": null,
   "metadata": {
    "id": "wT5Xb14q4HVi"
   },
   "outputs": [],
   "source": [
    "# Python program showing a\n",
    "# use of property() function\n",
    "\n",
    "class Geeks:\n",
    "\tdef __init__(self):\n",
    "\t\tself._age = 0\n",
    "\t\n",
    "\t# function to get value of _age\n",
    "\tdef get_age(self):\n",
    "\t\tprint(\"getter method called\")\n",
    "\t\treturn self._age\n",
    "\t\n",
    "\t# function to set value of _age\n",
    "\tdef set_age(self, a):\n",
    "\t\tprint(\"setter method called\")\n",
    "\t\tself._age = a\n",
    "\n",
    "\t# function to delete _age attribute\n",
    "\tdef del_age(self):\n",
    "\t\tprint(\"Delete method called\")\n",
    "\t\tdel self._age\n",
    "\t\n",
    "\tage = property(get_age, set_age, del_age)\n",
    "\n",
    "mark = Geeks()\n"
   ]
  },
  {
   "cell_type": "code",
   "execution_count": null,
   "metadata": {
    "id": "2qJo2wgE9dvq"
   },
   "outputs": [],
   "source": [
    "mark.age"
   ]
  },
  {
   "cell_type": "code",
   "execution_count": null,
   "metadata": {
    "id": "Smk9cyrY0IbR"
   },
   "outputs": [],
   "source": [
    "mark.age = 80"
   ]
  },
  {
   "cell_type": "code",
   "execution_count": null,
   "metadata": {
    "id": "ZvNeBbqi0WwY"
   },
   "outputs": [],
   "source": [
    "print(mark.age)"
   ]
  },
  {
   "cell_type": "code",
   "execution_count": null,
   "metadata": {
    "id": "J29Zvm7X0nZA"
   },
   "outputs": [],
   "source": [
    "del mark.age"
   ]
  },
  {
   "cell_type": "code",
   "execution_count": null,
   "metadata": {
    "id": "gr0oYzPH1D6k"
   },
   "outputs": [],
   "source": [
    "mark"
   ]
  },
  {
   "cell_type": "code",
   "execution_count": null,
   "metadata": {
    "id": "7vsDxQ005AVc"
   },
   "outputs": [],
   "source": [
    "# Python program showing the use of\n",
    "\n",
    "class Geeks:\n",
    "\tdef __init__(self):\n",
    "\t\tself._age = 0\n",
    "\t\n",
    "\t# using property decorator\n",
    "\t# a getter function\n",
    "\n",
    "\t#age = property(get,set,del)\n",
    "\t@property\n",
    "\tdef age(self):\n",
    "\t\tprint(\"getter method called\")\n",
    "\t\treturn self._age\n",
    "\n",
    "\t# a setter function\n",
    "\t@age.setter\n",
    "\tdef age(self, a):\n",
    "\t\tif(a < 18):\n",
    "\t\t\traise ValueError(\"Sorry you age is below eligibility criteria\")\n",
    "\t\tprint(\"setter method called\")\n",
    "\t\tself._age = a\n",
    "\n",
    "\t@age.deleter\n",
    "\tdef age(self):\n",
    "\t\tprint(\"Deleted\")\t\t\n",
    "\t\tdel self._age\n",
    "\n",
    "mark = Geeks()"
   ]
  },
  {
   "cell_type": "code",
   "execution_count": null,
   "metadata": {
    "id": "kFMh6oPI-8C9"
   },
   "outputs": [],
   "source": [
    "mark.age = 19\n",
    "\n",
    "print(mark.age)"
   ]
  },
  {
   "cell_type": "code",
   "execution_count": null,
   "metadata": {
    "id": "fc-2Qr_X_0bf"
   },
   "outputs": [],
   "source": [
    "del mark.age"
   ]
  },
  {
   "cell_type": "markdown",
   "metadata": {
    "id": "qA1jOcyhkzSd"
   },
   "source": [
    "# **Inheritance** in Python 👪\n",
    "\n",
    "Inheritance is the capability of one class to derive or inherit the properties from another class. \n",
    "\n",
    "Benefits of inheritance are: \n",
    "* It represents real-world relationships well.\n",
    "* It provides the reusability of a code. We don’t have to write the same code again and again. Also, it allows us to add more features to a class without modifying it.\n",
    "* It is transitive in nature, which means that if class B inherits from another class A, then all the subclasses of B would automatically inherit from class A."
   ]
  },
  {
   "cell_type": "code",
   "execution_count": null,
   "metadata": {
    "id": "HYOfZDQTkz82"
   },
   "outputs": [],
   "source": [
    "# A Python program to demonstrate inheritance\n",
    "\n",
    "class Person:\n",
    "\n",
    "  # Constructor\n",
    "  def __init__(self, name, id):\n",
    "    self.name = name\n",
    "    self.id = id\n",
    "\n",
    "  # To check if this person is an employee\n",
    "  def Display(self):\n",
    "    print(self.name, self.id)\n",
    "\n",
    "\n",
    "# Driver code\n",
    "emp = Person(\"Shayam\", 102) # An Object of Person\n",
    "emp.Display()"
   ]
  },
  {
   "cell_type": "code",
   "execution_count": null,
   "metadata": {
    "id": "XUke31SE82Bv"
   },
   "outputs": [],
   "source": [
    "class Emp(Person):\n",
    "\n",
    "  def Print(self):\n",
    "    print(\"Emp class called\")\n",
    "\t\n",
    "Emp_details = Emp(\"Ravi\", 103)\n",
    "\n",
    "# calling parent class function\n",
    "Emp_details.Display()\n",
    "\n",
    "# Calling child class function\n",
    "Emp_details.Print()\n"
   ]
  },
  {
   "cell_type": "markdown",
   "metadata": {
    "id": "hC7WjxfnBxwS"
   },
   "source": [
    "## Example of Inheritance \n"
   ]
  },
  {
   "cell_type": "code",
   "execution_count": null,
   "metadata": {
    "id": "k17LEdmXB1xB"
   },
   "outputs": [],
   "source": [
    "class Person(object):\n",
    " \n",
    "    # Constructor\n",
    "    def __init__(self, name):\n",
    "        self.name = name\n",
    " \n",
    "    # To get name\n",
    "    def getName(self):\n",
    "        return self.name\n",
    " \n",
    "    # To check if this person is an employee\n",
    "    def isEmployee(self):\n",
    "        return False\n",
    " \n",
    " \n",
    "# Inherited or Subclass (Note Person in bracket)\n",
    "class Employee(Person):\n",
    " \n",
    "    # Here we return true\n",
    "    def isEmployee(self):\n",
    "        return True\n",
    " \n",
    " \n",
    "# Driver code\n",
    "emp = Person(\"Ravi\")  # An Object of Person\n",
    "print(emp.getName(), emp.isEmployee())\n",
    " \n",
    "emp = Employee(\"Mayank\")  # An Object of Employee\n",
    "print(emp.getName(), emp.isEmployee())"
   ]
  },
  {
   "cell_type": "markdown",
   "metadata": {
    "id": "TPy8KqWsCy2-"
   },
   "source": [
    "## Python code to demonstrate how parent constructors are called."
   ]
  },
  {
   "cell_type": "code",
   "execution_count": null,
   "metadata": {
    "id": "cfZomfdbCODC"
   },
   "outputs": [],
   "source": [
    "# parent class\n",
    "class Person:\n",
    " \n",
    "    # __init__ is known as the constructor\n",
    "    def __init__(self, name, idnumber):\n",
    "        self.name = name\n",
    "        self.idnumber = idnumber\n",
    " \n",
    "    def display(self):\n",
    "        print(self.name)\n",
    "        print(self.idnumber)\n",
    " \n",
    "# child class\n",
    " \n",
    " \n",
    "class Employee(Person):\n",
    "    def __init__(self, name, idnumber, salary, post):\n",
    "        self.salary = salary\n",
    "        self.post = post\n",
    " \n",
    "        # invoking the __init__ of the parent class\n",
    "        Person.__init__(self, name, idnumber)\n",
    "\n",
    "\n",
    "    def print(self):\n",
    "        print(self.salary)\n",
    "        print(self.post)\n",
    " \n",
    " \n",
    "# creation of an object variable or an instance\n",
    "a = Employee('Rahul', 886012, 200000, \"Intern\")\n",
    " \n",
    "# calling a function of the class Person using its instance\n",
    "a.display()\n",
    "a.print()"
   ]
  },
  {
   "cell_type": "code",
   "execution_count": null,
   "metadata": {
    "colab": {
     "base_uri": "https://localhost:8080/"
    },
    "id": "Y4T7hGK6CYgE",
    "outputId": "842ea91e-07d5-4fb8-9cde-3de88e8fc6aa"
   },
   "outputs": [
    {
     "name": "stdout",
     "output_type": "stream",
     "text": [
      "Modi\n",
      "23\n"
     ]
    }
   ],
   "source": [
    "class A:\n",
    "    name = \"Modi\"\n",
    "    def __init__(self, n='Rahul'):\n",
    "        self.name = n\n",
    " \n",
    "class B(A):\n",
    "    def __init__(self, roll):\n",
    "        self.roll = roll\n",
    "        #A.__init__(self,\"Ravi\")\n",
    " \n",
    "object = B(23)\n",
    "print(object.name)\n",
    "print(object.roll)"
   ]
  },
  {
   "cell_type": "markdown",
   "metadata": {
    "id": "QP9n_LY9k7yV"
   },
   "source": [
    "#  **Inheritance, Subclasses and Overriding Methods**"
   ]
  },
  {
   "cell_type": "code",
   "execution_count": null,
   "metadata": {
    "colab": {
     "base_uri": "https://localhost:8080/"
    },
    "id": "kfL8T7PTk8YW",
    "outputId": "2f150e5a-8742-4b2e-a4d7-08a1c35c0285"
   },
   "outputs": [
    {
     "name": "stdout",
     "output_type": "stream",
     "text": [
      "Inside Parent\n",
      "Inside Child\n"
     ]
    }
   ],
   "source": [
    "# Python program to demonstrate \n",
    "# method overriding\n",
    "  \n",
    "  \n",
    "# Defining parent class\n",
    "class Parent():\n",
    "      \n",
    "    # Constructor\n",
    "    def __init__(self):\n",
    "        self.value = \"Inside Parent\"\n",
    "          \n",
    "    # Parent's show method\n",
    "    def show(self):\n",
    "        print(self.value)\n",
    "          \n",
    "# Defining child class\n",
    "class Child(Parent):\n",
    "      \n",
    "    # Constructor\n",
    "    def __init__(self):\n",
    "        self.value = \"Inside Child\"\n",
    "          \n",
    "    # Child's show method\n",
    "    def show(self):\n",
    "        print(self.value)\n",
    "          \n",
    "          \n",
    "# Driver's code\n",
    "obj1 = Parent()\n",
    "obj2 = Child()\n",
    "  \n",
    "obj1.show()\n",
    "obj2.show()"
   ]
  },
  {
   "cell_type": "code",
   "execution_count": null,
   "metadata": {
    "colab": {
     "base_uri": "https://localhost:8080/"
    },
    "id": "9XT38lHcHXFC",
    "outputId": "9764000b-3d44-48b4-c34a-f11f2fdb8169"
   },
   "outputs": [
    {
     "name": "stdout",
     "output_type": "stream",
     "text": [
      "Inside Parent 1\n",
      "Inside Child\n"
     ]
    }
   ],
   "source": [
    "# Python program to demonstrate\n",
    "# overriding in multiple inheritance\n",
    "\n",
    "\n",
    "# Defining parent class 1\n",
    "class Parent1():\n",
    "\t\t\n",
    "\t# Parent's show method\n",
    "\tdef show(self):\n",
    "\t\tprint(\"Inside Parent 1\")\n",
    "\t\t\n",
    "# Defining Parent class 2\n",
    "class Parent2():\n",
    "\t\t\n",
    "\t# Parent's show method\n",
    "\tdef display(self):\n",
    "\t\tprint(\"Inside Parent 2\")\n",
    "\t\t\n",
    "\t\t\n",
    "# Defining child class\n",
    "class Child(Parent1, Parent2):\n",
    "\t\t\n",
    "\t# Child's show method\n",
    "\tdef display(self):\n",
    "\t\tprint(\"Inside Child\")\n",
    "\t\n",
    "\t\t\n",
    "# Driver's code\n",
    "obj = Child()\n",
    "\n",
    "obj.show()\n",
    "obj.display()\n"
   ]
  },
  {
   "cell_type": "code",
   "execution_count": null,
   "metadata": {
    "colab": {
     "base_uri": "https://localhost:8080/"
    },
    "id": "pStHKdIgHo5c",
    "outputId": "6cfbe539-db12-464a-d4ed-6eb71836f4b3"
   },
   "outputs": [
    {
     "name": "stdout",
     "output_type": "stream",
     "text": [
      "Inside GrandChild\n",
      "Inside Parent\n"
     ]
    }
   ],
   "source": [
    "# Python program to demonstrate\n",
    "# overriding in multilevel inheritance\n",
    "\n",
    "\n",
    "# Python program to demonstrate\n",
    "# overriding in multilevel inheritance\n",
    "\n",
    "\n",
    "class Parent():\n",
    "\t\t\n",
    "\t# Parent's show method\n",
    "\tdef display(self):\n",
    "\t\tprint(\"Inside Parent\")\n",
    "\t\n",
    "\t\n",
    "# Inherited or Sub class (Note Parent in bracket)\n",
    "class Child(Parent):\n",
    "\t\t\n",
    "\t# Child's show method\n",
    "\tdef show(self):\n",
    "\t\tprint(\"Inside Child\")\n",
    "\t\n",
    "# Inherited or Sub class (Note Child in bracket)\n",
    "class GrandChild(Child):\n",
    "\t\t\n",
    "\t# Child's show method\n",
    "\tdef show(self):\n",
    "\t\tprint(\"Inside GrandChild\")\t\t\n",
    "\t\n",
    "# Driver code\n",
    "g = GrandChild()\n",
    "g.show()\n",
    "g.display()\n"
   ]
  },
  {
   "cell_type": "markdown",
   "metadata": {
    "id": "9Hac-xpY5sUr"
   },
   "source": [
    "# **Decorators**"
   ]
  },
  {
   "cell_type": "markdown",
   "metadata": {
    "id": "GoztZz_N52pj"
   },
   "source": [
    "Decorators are a very powerful and useful tool in Python since it allows programmers to modify the behaviour of a function or class. Decorators allow us to wrap another function in order to extend the behaviour of the wrapped function, without permanently modifying it. But before diving deep into decorators let us understand some concepts that will come in handy in learning the decorators."
   ]
  },
  {
   "cell_type": "code",
   "execution_count": null,
   "metadata": {
    "colab": {
     "base_uri": "https://localhost:8080/"
    },
    "id": "KXhRV31U5rtk",
    "outputId": "74aab0bc-516d-48c7-8831-56f68e5b30ff"
   },
   "outputs": [
    {
     "name": "stdout",
     "output_type": "stream",
     "text": [
      "HELLO\n",
      "HELLO\n"
     ]
    }
   ],
   "source": [
    "#First Class Objects\n",
    "\n",
    "def shout(text):\n",
    "    return text.upper()\n",
    " \n",
    "print(shout('Hello'))\n",
    " \n",
    "yell = shout\n",
    "\n",
    " \n",
    "print(yell('Hello'))"
   ]
  },
  {
   "cell_type": "code",
   "execution_count": null,
   "metadata": {
    "colab": {
     "base_uri": "https://localhost:8080/"
    },
    "id": "ZokbF_AK6Bbd",
    "outputId": "a23dd277-e231-49fe-c179-2b00bf8dd94f"
   },
   "outputs": [
    {
     "name": "stdout",
     "output_type": "stream",
     "text": [
      "HI, I AM CREATED BY A FUNCTION PASSED AS AN ARGUMENT.\n",
      "hi, i am created by a function passed as an argument.\n"
     ]
    }
   ],
   "source": [
    "# Passing the function as an argument \n",
    "def shout(text):\n",
    "\treturn text.upper()\n",
    "\n",
    "def whisper(text):\n",
    "\treturn text.lower()\n",
    "\n",
    "def greet(func):\n",
    "\t# storing the function in a variable\n",
    "\tgreeting = func(\"\"\"Hi, I am created by a function passed as an argument.\"\"\")\n",
    "\tprint (greeting)\n",
    "\n",
    "greet(shout)\n",
    "greet(whisper)"
   ]
  },
  {
   "cell_type": "code",
   "execution_count": null,
   "metadata": {
    "colab": {
     "base_uri": "https://localhost:8080/"
    },
    "id": "bptVKOU0yum2",
    "outputId": "ea845efb-fc2b-4458-8cd4-a19cbc755e5a"
   },
   "outputs": [
    {
     "name": "stdout",
     "output_type": "stream",
     "text": [
      "150\n"
     ]
    }
   ],
   "source": [
    "def create_adder(y):\n",
    "    return lambda x : x * y\n",
    "\n",
    "Jalaram = create_adder(15)\n",
    " \n",
    "print(Jalaram(10))"
   ]
  },
  {
   "cell_type": "code",
   "execution_count": null,
   "metadata": {
    "colab": {
     "base_uri": "https://localhost:8080/"
    },
    "id": "c5NmnpIf6aQl",
    "outputId": "2184a466-4014-46bb-82ce-865f6393dc5e"
   },
   "outputs": [
    {
     "name": "stdout",
     "output_type": "stream",
     "text": [
      "25\n"
     ]
    }
   ],
   "source": [
    "# Returning functions from another function.\n",
    "def create_adder(x):\n",
    "    def adder(y):\n",
    "        return x+y\n",
    " \n",
    "    return adder\n",
    " \n",
    "add_15 = create_adder(15)\n",
    " \n",
    "print(add_15(10))"
   ]
  },
  {
   "cell_type": "markdown",
   "metadata": {
    "id": "mw-oytOl-WVV"
   },
   "source": [
    "## Defining a decorator"
   ]
  },
  {
   "cell_type": "code",
   "execution_count": null,
   "metadata": {
    "colab": {
     "base_uri": "https://localhost:8080/"
    },
    "id": "nQa4Dx-F8V3n",
    "outputId": "e72a61e2-6601-40ad-b0b4-2bd0a8390556"
   },
   "outputs": [
    {
     "name": "stdout",
     "output_type": "stream",
     "text": [
      "Hello, this is before function execution\n",
      "This is inside the function !!\n",
      "This is after function execution\n"
     ]
    }
   ],
   "source": [
    "def hello_decorator(func):\n",
    "\n",
    "\tdef box():\n",
    "\t\tprint(\"Hello, this is before function execution\")\n",
    "\t\tfunc()\n",
    "\t\tprint(\"This is after function execution\")\t\t\n",
    "\treturn box\n",
    "\n",
    "\"\"\"\n",
    "def choco():\n",
    "\tprint(\"This is inside the function !!\")\n",
    "\n",
    "choco = hello_decorator(choco)\n",
    "\"\"\"\n",
    "@hello_decorator\n",
    "def choco():\n",
    "\tprint(\"This is inside the function !!\")\n",
    "\n",
    "choco()\n"
   ]
  },
  {
   "cell_type": "code",
   "execution_count": null,
   "metadata": {
    "id": "0fqDhyZO1teF"
   },
   "outputs": [],
   "source": [
    "# Using Decorators\n",
    "def amazingFunc(func):\n",
    "  print('Decorator Function Called')\n",
    "  def awesomeFunc():\n",
    "    print(\"Hello\")\n",
    "    func()\n",
    "    print(\"Bye\")\n",
    "  return awesomeFunc\n",
    "\n",
    "\n",
    "def func():\n",
    "    print('printing inside func')"
   ]
  },
  {
   "cell_type": "code",
   "execution_count": null,
   "metadata": {
    "colab": {
     "base_uri": "https://localhost:8080/"
    },
    "id": "qF-On-qE12YJ",
    "outputId": "118138d4-5a33-450c-b7a7-dfe3f7f741dc"
   },
   "outputs": [
    {
     "name": "stdout",
     "output_type": "stream",
     "text": [
      "Decorator Function Called\n"
     ]
    }
   ],
   "source": [
    "# Using Decorators\n",
    "def stringBuilder(func):\n",
    "  print('Decorator Function Called')\n",
    "  def CapString(x):\n",
    "    print('Hello')\n",
    "    func(x*2)\n",
    "    print(\"Bye\",x)\n",
    "  return CapString\n",
    "\n",
    "\n",
    "@stringBuilder\n",
    "def func(x):\n",
    "    print('printing : ' , x)"
   ]
  },
  {
   "cell_type": "code",
   "execution_count": null,
   "metadata": {
    "colab": {
     "base_uri": "https://localhost:8080/"
    },
    "id": "47hSUZIK1sJl",
    "outputId": "c74eccd3-a5fa-4aad-d77e-ebb3f2e48e57"
   },
   "outputs": [
    {
     "name": "stdout",
     "output_type": "stream",
     "text": [
      "Hello\n",
      "printing :  40\n",
      "Bye 20\n"
     ]
    }
   ],
   "source": [
    "func(20)"
   ]
  },
  {
   "cell_type": "code",
   "execution_count": null,
   "metadata": {
    "colab": {
     "base_uri": "https://localhost:8080/"
    },
    "id": "Zm5TdJdF7-vw",
    "outputId": "033300ed-ee99-4ec5-a808-c65bb5f38d8d"
   },
   "outputs": [
    {
     "name": "stdout",
     "output_type": "stream",
     "text": [
      "Decorator Function Called\n"
     ]
    }
   ],
   "source": [
    "func = amazingFunc(func)"
   ]
  },
  {
   "cell_type": "markdown",
   "metadata": {
    "id": "LjEVy2myk-i2"
   },
   "source": [
    "# Exercise"
   ]
  },
  {
   "cell_type": "code",
   "execution_count": null,
   "metadata": {
    "id": "yo-qyjDsk_2N"
   },
   "outputs": [],
   "source": [
    "# Create a Parent Class and Child class of Flights Company and their Different Carriers\n",
    "#   Parent Class\n",
    "#   - Flight Company Name \n",
    "#   - Total Employee\n",
    "#   Child Class\n",
    "#   - Plane Model number\n",
    "#   - Total Seats\n",
    "#   - Flying Hours \n",
    "#   - Fuel Capacity\n",
    "#   - unique ID\n",
    "\n",
    "\n",
    "# Use Private Vaiables to Hide Sensitive information\n",
    "# Also Make Get Setter Functions using Property Method"
   ]
  }
 ],
 "metadata": {
  "colab": {
   "collapsed_sections": [
    "sn86ELa8kjJh"
   ],
   "provenance": []
  },
  "kernelspec": {
   "display_name": "Python 3 (ipykernel)",
   "language": "python",
   "name": "python3"
  },
  "language_info": {
   "codemirror_mode": {
    "name": "ipython",
    "version": 3
   },
   "file_extension": ".py",
   "mimetype": "text/x-python",
   "name": "python",
   "nbconvert_exporter": "python",
   "pygments_lexer": "ipython3",
   "version": "3.9.6"
  }
 },
 "nbformat": 4,
 "nbformat_minor": 1
}
