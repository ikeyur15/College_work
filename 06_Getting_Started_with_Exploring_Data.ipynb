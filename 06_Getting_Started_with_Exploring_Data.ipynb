{
 "cells": [
  {
   "cell_type": "markdown",
   "metadata": {
    "id": "bNdbQ5M3uqUl"
   },
   "source": [
    "# **Working with Files** 📁\n"
   ]
  },
  {
   "cell_type": "markdown",
   "metadata": {
    "id": "u7pgGB6kvRY-"
   },
   "source": [
    "\n",
    "File Handling\n",
    "The key function for working with files in Python is the open() function.\n",
    "\n",
    "The open() function takes two parameters; filename, and mode.\n",
    "\n",
    "There are four different methods (modes) for opening a file:\n",
    "\n",
    "```\n",
    "open(fileLocation,modeOfAccessingFiles)\n",
    "```\n",
    "\n",
    "* \"r\" - Read - Default value. Opens a file for reading, error if the file does not exist\n",
    "\n",
    "* \"a\" - Append - Opens a file for appending, creates the file if it does not exist\n",
    "\n",
    "* \"w\" - Write - Opens a file for writing, creates the file if it does not exist\n",
    "\n",
    "* \"x\" - Create - Creates the specified file, returns an error if the file exists\n",
    "\n",
    "<hr>\n",
    "\n",
    "* \"t\" - Text - Default value. Text mode\n",
    "\n",
    "* \"b\" - Binary - Binary mode (e.g. images)"
   ]
  },
  {
   "cell_type": "code",
   "execution_count": null,
   "metadata": {
    "id": "wWexYllXs0J8"
   },
   "outputs": [],
   "source": [
    "# Creating a File with Open comand\n",
    "\n",
    "f = open('abc.txt','a')     # Created a object\n",
    "f.write('Good morning :) \\n')    # Written Text into Object\n",
    "f.close()                   # Closed the Object"
   ]
  },
  {
   "cell_type": "code",
   "execution_count": null,
   "metadata": {
    "id": "7aGQAOZttRMF"
   },
   "outputs": [],
   "source": [
    "# Reading the file \n",
    "\n",
    "f = open('abc.txt','r')     # Created a object\n",
    "#d = repr(f.read()) \n",
    "#print(d)\n",
    "listStr = (f.readlines())\n",
    "f.close()"
   ]
  },
  {
   "cell_type": "code",
   "execution_count": null,
   "metadata": {
    "colab": {
     "base_uri": "https://localhost:8080/"
    },
    "id": "1fgHyBEbyHKB",
    "outputId": "faf8260d-aea2-4aa9-a83c-6b717a57690e"
   },
   "outputs": [
    {
     "data": {
      "application/vnd.google.colaboratory.intrinsic+json": {
       "type": "string"
      },
      "text/plain": [
       "'Good morning :) \\n'"
      ]
     },
     "execution_count": 24,
     "metadata": {},
     "output_type": "execute_result"
    }
   ],
   "source": [
    "(listStr[3])"
   ]
  },
  {
   "cell_type": "code",
   "execution_count": null,
   "metadata": {
    "id": "k3gfox-EwOQN"
   },
   "outputs": [],
   "source": [
    "f = open('abc.txt','w')     # Created a object\n",
    "[f.write('Hello World\\n') for i in range(5) ]    # Written Text into Object\n",
    "f.close() "
   ]
  },
  {
   "cell_type": "code",
   "execution_count": null,
   "metadata": {
    "colab": {
     "base_uri": "https://localhost:8080/"
    },
    "id": "l4JMbSKTxJKu",
    "outputId": "d62da0f1-adc1-4b9d-a941-55c97d062d69"
   },
   "outputs": [
    {
     "name": "stdout",
     "output_type": "stream",
     "text": [
      "['Hello World\\n', 'Hello World\\n', 'Hello World\\n', 'Hello World\\n', 'Hello World\\n']\n"
     ]
    }
   ],
   "source": [
    "# Reading the file \n",
    "\n",
    "f = open('abc.txt','r')     # Created a object\n",
    "print(f.readlines())\n",
    "f.close()"
   ]
  },
  {
   "cell_type": "markdown",
   "metadata": {
    "id": "cMazeBsBxRSQ"
   },
   "source": [
    "# **Working with OS Module commands** 🌄"
   ]
  },
  {
   "cell_type": "code",
   "execution_count": null,
   "metadata": {
    "id": "17Mfcu2cxU4L"
   },
   "outputs": [],
   "source": [
    "import os # Internal Library to working Dict"
   ]
  },
  {
   "cell_type": "markdown",
   "metadata": {
    "id": "rIGKlO_m9Ix-"
   },
   "source": [
    "## OS Basic Functions "
   ]
  },
  {
   "cell_type": "code",
   "execution_count": null,
   "metadata": {
    "colab": {
     "base_uri": "https://localhost:8080/"
    },
    "id": "OVNl5lRLxYNM",
    "outputId": "f25e9bc4-0cd6-4167-b670-ee074ec7b6ad"
   },
   "outputs": [
    {
     "data": {
      "text/plain": [
       "['anscombe.json',\n",
       " 'README.md',\n",
       " 'california_housing_train.csv',\n",
       " 'mnist_train_small.csv',\n",
       " 'mnist_test.csv',\n",
       " 'california_housing_test.csv']"
      ]
     },
     "execution_count": 37,
     "metadata": {},
     "output_type": "execute_result"
    }
   ],
   "source": [
    "os.listdir('sample_data/')           # Example of accessing os functions"
   ]
  },
  {
   "cell_type": "code",
   "execution_count": null,
   "metadata": {
    "colab": {
     "base_uri": "https://localhost:8080/",
     "height": 35
    },
    "id": "oPl4t7aMxcg0",
    "outputId": "82174077-2b06-4090-b74f-3253238c14a2"
   },
   "outputs": [
    {
     "data": {
      "application/vnd.google.colaboratory.intrinsic+json": {
       "type": "string"
      },
      "text/plain": [
       "'/content'"
      ]
     },
     "execution_count": 32,
     "metadata": {},
     "output_type": "execute_result"
    }
   ],
   "source": [
    "os.getcwd()               # Example of accessing os functions"
   ]
  },
  {
   "cell_type": "code",
   "execution_count": null,
   "metadata": {
    "id": "B2ShNj3Z9RGr"
   },
   "outputs": [],
   "source": [
    "os.chdir('..')                # to change working Dir"
   ]
  },
  {
   "cell_type": "code",
   "execution_count": null,
   "metadata": {
    "colab": {
     "base_uri": "https://localhost:8080/",
     "height": 35
    },
    "id": "xuLrrkaL8bu9",
    "outputId": "c981cd2e-8217-46a9-d851-ea4800350091"
   },
   "outputs": [
    {
     "data": {
      "application/vnd.google.colaboratory.intrinsic+json": {
       "type": "string"
      },
      "text/plain": [
       "'/content'"
      ]
     },
     "execution_count": 41,
     "metadata": {},
     "output_type": "execute_result"
    }
   ],
   "source": [
    "os.getcwd()"
   ]
  },
  {
   "cell_type": "code",
   "execution_count": null,
   "metadata": {
    "id": "NYWFZa6Y9lSW"
   },
   "outputs": [],
   "source": [
    "os.mkdir('New Folder')    # To make new Dir"
   ]
  },
  {
   "cell_type": "code",
   "execution_count": null,
   "metadata": {
    "id": "3W60BdxD9h6p"
   },
   "outputs": [],
   "source": [
    "os.rmdir('New Folder')    # To remove whole Dir"
   ]
  },
  {
   "cell_type": "code",
   "execution_count": null,
   "metadata": {
    "id": "gy1b6AFf-FEK"
   },
   "outputs": [],
   "source": [
    "os.remove('abc.txt')      # To remove File"
   ]
  },
  {
   "cell_type": "markdown",
   "metadata": {
    "id": "FFLw4hos9EFY"
   },
   "source": [
    "## OS Walk\n",
    "\n",
    "Python method walk() generates the file names in a directory tree by walking the tree either top-down or bottom-up."
   ]
  },
  {
   "cell_type": "code",
   "execution_count": null,
   "metadata": {
    "id": "VKmkD359YUde"
   },
   "outputs": [],
   "source": [
    "import os "
   ]
  },
  {
   "cell_type": "code",
   "execution_count": null,
   "metadata": {
    "colab": {
     "base_uri": "https://localhost:8080/"
    },
    "id": "uV9YeZbD8x3p",
    "outputId": "23508cf9-9daa-4d4e-de5b-548a71f0802e"
   },
   "outputs": [
    {
     "name": "stdout",
     "output_type": "stream",
     "text": [
      "./.config/configurations/config_default\n",
      "./.config/logs/2022.08.03/20.20.58.507230.log\n",
      "./.config/logs/2022.08.03/20.20.57.728033.log\n",
      "./.config/logs/2022.08.03/20.20.37.810163.log\n",
      "./.config/logs/2022.08.03/20.20.11.079200.log\n",
      "./.config/logs/2022.08.03/20.19.49.687892.log\n",
      "./.config/logs/2022.08.03/20.20.30.273467.log\n",
      "./.config/logs/2022.08.03\n",
      "./.config/.last_survey_prompt.yaml\n",
      "./.config/active_config\n",
      "./.config/gce\n",
      "./.config/.last_update_check.json\n",
      "./.config/config_sentinel\n",
      "./.config/.last_opt_in_prompt.yaml\n",
      "./.config/configurations\n",
      "./.config/logs\n",
      "./sample_data/anscombe.json\n",
      "./sample_data/README.md\n",
      "./sample_data/mnist_test.csv\n",
      "./sample_data/california_housing_test.csv\n",
      "./sample_data/california_housing_train.csv\n",
      "./sample_data/mnist_train_small.csv\n",
      "./.config\n",
      "./sample_data\n"
     ]
    }
   ],
   "source": [
    "for root, dirs, files in os.walk(\".\", topdown=False):\n",
    "  #print(len(files))\n",
    "  for name in files:\n",
    "      print(os.path.join(root, name))\n",
    "  for name in dirs:\n",
    "    print(os.path.join(root, name))"
   ]
  },
  {
   "cell_type": "markdown",
   "metadata": {
    "id": "8jlqahK5-sK1"
   },
   "source": [
    "# **Getting hands on the Data** 👐"
   ]
  },
  {
   "cell_type": "markdown",
   "metadata": {
    "id": "4LsOAwIOC7Rv"
   },
   "source": [
    "**California Housing**\n",
    "\n",
    "This is a dataset obtained from the StatLib repository. Here is the included description:\n",
    "\n",
    "S&P Letters Data\n",
    "We collected information on the variables using all the block groups in California from the 1990 Cens us. In this sample a block group on average includes 1425.5 individuals living in a geographically co mpact area. Naturally, the geographical area included varies inversely with the population density. W e computed distances among the centroids of each block group as measured in latitude and longitude. W e excluded all the block groups reporting zero entries for the independent and dependent variables. T he final data contained 20,640 observations on 9 variables. The dependent variable is ln(median house value).\n",
    "\n",
    "```\n",
    "                               Bols    tols\n",
    "INTERCEPT\t\t       11.4939 275.7518\n",
    "MEDIAN INCOME\t       0.4790  45.7768\n",
    "MEDIAN INCOME2\t       -0.0166 -9.4841\n",
    "MEDIAN INCOME3\t       -0.0002 -1.9157\n",
    "ln(MEDIAN AGE)\t       0.1570  33.6123\n",
    "ln(TOTAL ROOMS/ POPULATION)    -0.8582 -56.1280\n",
    "ln(BEDROOMS/ POPULATION)       0.8043  38.0685\n",
    "ln(POPULATION/ HOUSEHOLDS)     -0.4077 -20.8762\n",
    "ln(HOUSEHOLDS)\t       0.0477  13.0792\n",
    "```"
   ]
  },
  {
   "cell_type": "code",
   "execution_count": null,
   "metadata": {
    "colab": {
     "base_uri": "https://localhost:8080/"
    },
    "id": "wNyglzMLBhmX",
    "outputId": "51747fea-864f-44f0-e164-e694d89be152"
   },
   "outputs": [
    {
     "name": "stdout",
     "output_type": "stream",
     "text": [
      "--2022-08-08 03:00:03--  https://raw.githubusercontent.com/amansingh9097/California-housing-price-prediction/master/datasets/housing/housing.csv\n",
      "Resolving raw.githubusercontent.com (raw.githubusercontent.com)... 185.199.109.133, 185.199.108.133, 185.199.110.133, ...\n",
      "Connecting to raw.githubusercontent.com (raw.githubusercontent.com)|185.199.109.133|:443... connected.\n",
      "HTTP request sent, awaiting response... 200 OK\n",
      "Length: 1444170 (1.4M) [text/plain]\n",
      "Saving to: ‘housing.csv’\n",
      "\n",
      "housing.csv         100%[===================>]   1.38M  --.-KB/s    in 0.06s   \n",
      "\n",
      "2022-08-08 03:00:03 (24.9 MB/s) - ‘housing.csv’ saved [1444170/1444170]\n",
      "\n"
     ]
    }
   ],
   "source": [
    "!wget \"https://raw.githubusercontent.com/amansingh9097/California-housing-price-prediction/master/datasets/housing/housing.csv\""
   ]
  },
  {
   "cell_type": "code",
   "execution_count": null,
   "metadata": {
    "id": "wDNlR7oSgJep"
   },
   "outputs": [],
   "source": [
    "import csv"
   ]
  },
  {
   "cell_type": "code",
   "execution_count": null,
   "metadata": {
    "id": "09sl5XH4-vIY"
   },
   "outputs": [],
   "source": [
    "with open('housing.csv','r') as f:  #\n",
    "  data = csv.DictReader(f, skipinitialspace= True)\n",
    "  data = list(data)"
   ]
  },
  {
   "cell_type": "code",
   "execution_count": null,
   "metadata": {
    "colab": {
     "base_uri": "https://localhost:8080/"
    },
    "id": "WgBI1shfC-lS",
    "outputId": "ad9fd132-6e26-4eef-c364-545490cd0a84"
   },
   "outputs": [
    {
     "data": {
      "text/plain": [
       "odict_keys(['longitude', 'latitude', 'housing_median_age', 'total_rooms', 'total_bedrooms', 'population', 'households', 'median_income', 'median_house_value', 'ocean_proximity'])"
      ]
     },
     "execution_count": 8,
     "metadata": {},
     "output_type": "execute_result"
    }
   ],
   "source": [
    "data[0].keys()"
   ]
  },
  {
   "cell_type": "code",
   "execution_count": null,
   "metadata": {
    "colab": {
     "base_uri": "https://localhost:8080/"
    },
    "id": "TpgkDUSb_VSY",
    "outputId": "569ab5b8-c723-4363-e3e6-d37fa1fab698"
   },
   "outputs": [
    {
     "data": {
      "text/plain": [
       "list"
      ]
     },
     "execution_count": 9,
     "metadata": {},
     "output_type": "execute_result"
    }
   ],
   "source": [
    "type(data)          # Getting the type of Data"
   ]
  },
  {
   "cell_type": "code",
   "execution_count": null,
   "metadata": {
    "colab": {
     "base_uri": "https://localhost:8080/"
    },
    "id": "LyokjIYQ_WEg",
    "outputId": "556d038a-88d8-48c4-97ec-be6ad0ecd84c"
   },
   "outputs": [
    {
     "data": {
      "text/plain": [
       "collections.OrderedDict"
      ]
     },
     "execution_count": 10,
     "metadata": {},
     "output_type": "execute_result"
    }
   ],
   "source": [
    "type(data[0])       # Getting the type of Data at [0]"
   ]
  },
  {
   "cell_type": "code",
   "execution_count": null,
   "metadata": {
    "colab": {
     "base_uri": "https://localhost:8080/"
    },
    "id": "FAMDHX3OBnMu",
    "outputId": "9c3a485a-ebdb-4924-bce4-4d18cd9c650a"
   },
   "outputs": [
    {
     "data": {
      "text/plain": [
       "20640"
      ]
     },
     "execution_count": 11,
     "metadata": {},
     "output_type": "execute_result"
    }
   ],
   "source": [
    "len(data)           # Getting the Lenght of the Data"
   ]
  },
  {
   "cell_type": "code",
   "execution_count": null,
   "metadata": {
    "colab": {
     "base_uri": "https://localhost:8080/"
    },
    "id": "5KibTOCr_5w4",
    "outputId": "4ff5d050-7a2e-4839-c90e-27f9ad34f756"
   },
   "outputs": [
    {
     "data": {
      "text/plain": [
       "odict_keys(['longitude', 'latitude', 'housing_median_age', 'total_rooms', 'total_bedrooms', 'population', 'households', 'median_income', 'median_house_value', 'ocean_proximity'])"
      ]
     },
     "execution_count": 13,
     "metadata": {},
     "output_type": "execute_result"
    }
   ],
   "source": [
    "data[0].keys()      # Getting the Columns names"
   ]
  },
  {
   "cell_type": "code",
   "execution_count": null,
   "metadata": {
    "colab": {
     "base_uri": "https://localhost:8080/"
    },
    "id": "NUZj3v7V_oA5",
    "outputId": "32ca8eaf-3846-477c-c441-94766463bd5e"
   },
   "outputs": [
    {
     "name": "stdout",
     "output_type": "stream",
     "text": [
      "41.0\n",
      "21.0\n",
      "52.0\n",
      "52.0\n",
      "52.0\n",
      "52.0\n",
      "52.0\n",
      "52.0\n",
      "42.0\n",
      "52.0\n"
     ]
    }
   ],
   "source": [
    "for i in data[:10]:\n",
    "  print(i['housing_median_age'])"
   ]
  },
  {
   "cell_type": "markdown",
   "metadata": {
    "id": "lAfB8HZ6Dx0I"
   },
   "source": [
    "# **IN CLASS TASK** 💻"
   ]
  },
  {
   "cell_type": "code",
   "execution_count": null,
   "metadata": {
    "id": "Q8w_nXgmEqNf"
   },
   "outputs": [],
   "source": [
    "# TASK 1 - Create a File named 'test.txt' and Write 5 Lines on Data Science Trends"
   ]
  },
  {
   "cell_type": "code",
   "execution_count": null,
   "metadata": {
    "id": "SCcQWd0jEqGH"
   },
   "outputs": [],
   "source": [
    "# TASK 2 - Read only first 20 Chars in from the created file 'test.txt'"
   ]
  },
  {
   "cell_type": "code",
   "execution_count": null,
   "metadata": {
    "id": "rMGai6SbEp96"
   },
   "outputs": [],
   "source": [
    "# TASK 3 - Append more Data into the create 'test.txt' related to the weather conditions "
   ]
  },
  {
   "cell_type": "code",
   "execution_count": null,
   "metadata": {
    "id": "r0ess_NJj1JN"
   },
   "outputs": [],
   "source": [
    "# Sub Task Create a folder using os command and save files inside with Data science information,\n",
    "# Folder name : New Folder\n",
    "# [name]-[time].txt // Naming of the file\n",
    "# Get data from following link and write it into your files\n",
    "# link - https://raw.githubusercontent.com/Ambatkar/Test_mnist/main/data/dummy.txt\n",
    "# Remove all the 'a' with 'e' and replace `'` with `\"`."
   ]
  },
  {
   "cell_type": "code",
   "execution_count": null,
   "metadata": {
    "id": "R-knCCof_4v5"
   },
   "outputs": [],
   "source": [
    "# TASK 4 - to get Highest housiing_median_income House\n",
    "# and print the longitude and latitude of the house"
   ]
  },
  {
   "cell_type": "code",
   "execution_count": null,
   "metadata": {
    "id": "FVBlIJGZAYyC"
   },
   "outputs": [],
   "source": [
    "# TASK 5 - Find Types ocean_proximity values"
   ]
  },
  {
   "cell_type": "code",
   "execution_count": null,
   "metadata": {
    "id": "Tk0YxJhEAZGO"
   },
   "outputs": [],
   "source": [
    "# TASK 6 - Count all the ocean_proximity values and print them"
   ]
  },
  {
   "cell_type": "code",
   "execution_count": null,
   "metadata": {
    "id": "i-DU34uEAZiG"
   },
   "outputs": [],
   "source": [
    "# TASK 7 - Count total rooms and Bedroom in California \n",
    "# and count total Person per Bedroom "
   ]
  },
  {
   "cell_type": "code",
   "execution_count": null,
   "metadata": {
    "id": "bnaVivdJ-4fC"
   },
   "outputs": [],
   "source": [
    "import requests as r\n",
    "data = r.get(\"https://raw.githubusercontent.com/Ambatkar/Test_mnist/main/data/dummy.txt\")\n",
    "strGet = data.text"
   ]
  },
  {
   "cell_type": "code",
   "execution_count": null,
   "metadata": {
    "colab": {
     "base_uri": "https://localhost:8080/",
     "height": 122
    },
    "id": "m3mCgmftcfGT",
    "outputId": "91cd4294-fda4-48b2-b861-42094fe4a9ad"
   },
   "outputs": [
    {
     "data": {
      "application/vnd.google.colaboratory.intrinsic+json": {
       "type": "string"
      },
      "text/plain": [
       "\"It is a long established fact that a reader will be distracted by the readable content of a page when looking at its layout. The point of using Lorem Ipsum is that it has a more-or-less normal distribution of letters, as opposed to using 'Content here, content here', making it look like readable English. Many desktop publishing packages and web page editors now use Lorem Ipsum as their default model text, and a search for 'lorem ipsum' will uncover many web sites still in their infancy. Various versions have evolved over the years, sometimes by accident, sometimes on purpose (injected humour and the like).\\n\\n\""
      ]
     },
     "execution_count": 18,
     "metadata": {},
     "output_type": "execute_result"
    }
   ],
   "source": [
    "strGet"
   ]
  },
  {
   "cell_type": "code",
   "execution_count": null,
   "metadata": {
    "colab": {
     "base_uri": "https://localhost:8080/"
    },
    "id": "aXxnqvX8cgzL",
    "outputId": "83bf490c-a0b1-4219-98eb-e07c09394f2e"
   },
   "outputs": [
    {
     "data": {
      "text/plain": [
       "<Response [200]>"
      ]
     },
     "execution_count": 16,
     "metadata": {},
     "output_type": "execute_result"
    }
   ],
   "source": []
  },
  {
   "cell_type": "code",
   "execution_count": null,
   "metadata": {
    "id": "VC1Y5pY-cxph"
   },
   "outputs": [],
   "source": []
  }
 ],
 "metadata": {
  "colab": {
   "collapsed_sections": [
    "bNdbQ5M3uqUl"
   ],
   "provenance": []
  },
  "kernelspec": {
   "display_name": "Python 3 (ipykernel)",
   "language": "python",
   "name": "python3"
  },
  "language_info": {
   "codemirror_mode": {
    "name": "ipython",
    "version": 3
   },
   "file_extension": ".py",
   "mimetype": "text/x-python",
   "name": "python",
   "nbconvert_exporter": "python",
   "pygments_lexer": "ipython3",
   "version": "3.9.6"
  }
 },
 "nbformat": 4,
 "nbformat_minor": 1
}
