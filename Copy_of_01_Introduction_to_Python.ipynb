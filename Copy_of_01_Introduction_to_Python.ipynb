{
 "cells": [
  {
   "cell_type": "markdown",
   "metadata": {
    "id": "052h2kTH_ov4"
   },
   "source": [
    "# INTRODUCTION TO **PYTHON** 🐍\n",
    "\n",
    "Python is a high-level, interpreted, general-purpose programming language. Its design philosophy emphasizes code readability with the use of significant indentation. Python is dynamically-typed and garbage-collected"
   ]
  },
  {
   "cell_type": "markdown",
   "metadata": {
    "id": "ZqrSrxVkAUGv"
   },
   "source": [
    "## Things we are going to cover today.\n",
    "\n",
    "1. Basic Usage and Variables\n",
    "2. Conditions and Operators\n",
    "3. If..Else Statements"
   ]
  },
  {
   "cell_type": "markdown",
   "metadata": {
    "id": "NOwLtnuwU6ac"
   },
   "source": [
    "### **1. Basic Usage**"
   ]
  },
  {
   "cell_type": "code",
   "execution_count": null,
   "metadata": {
    "id": "CDHCg4RsBRWw"
   },
   "outputs": [],
   "source": [
    "def helloworld():\n",
    "  \"\"\"\n",
    "  This is a test function\n",
    "\n",
    "  Params : None\n",
    "  return : true  \n",
    "  \"\"\"\n",
    "  return True"
   ]
  },
  {
   "cell_type": "code",
   "execution_count": null,
   "metadata": {
    "id": "v_-1Q3mhBch2"
   },
   "outputs": [],
   "source": [
    "helloworld()"
   ]
  },
  {
   "cell_type": "code",
   "execution_count": null,
   "metadata": {
    "id": "uggHekPGABqy"
   },
   "outputs": [],
   "source": [
    "a = 45\n",
    "strInt= f\"Hello World {a}\"\n",
    "print(strInt)\n",
    "\n",
    "# This is how we can comment in python \n",
    "\n",
    "\n",
    "\"\"\"\n",
    "This is multi-line \n",
    "comments  \n",
    "\"\"\"\n"
   ]
  },
  {
   "cell_type": "markdown",
   "metadata": {
    "id": "oH-ucEfFRx4u"
   },
   "source": [
    "#### Integers"
   ]
  },
  {
   "cell_type": "code",
   "execution_count": null,
   "metadata": {
    "id": "heOo1wT9_dDi"
   },
   "outputs": [],
   "source": [
    "# Python program to \n",
    "# demonstrate numeric value\n",
    "\n",
    "a = 10\n",
    "b = 2.71\n",
    "c = 2 + 4j\n",
    "\n",
    "print(\"Type of a: \", type(a))\n",
    "print(\"Type of b: \", type(b))\n",
    "print(\"Type of c: \", type(c))"
   ]
  },
  {
   "cell_type": "markdown",
   "metadata": {
    "id": "VhiuTAExXSPg"
   },
   "source": [
    "#### String\n",
    "In Python, Strings are arrays of bytes representing Unicode characters. A string is a collection of one or more characters put in a single quote, double-quote or triple quote. In python there is no character data type, a character is a string of length one. It is represented by str class."
   ]
  },
  {
   "cell_type": "code",
   "execution_count": null,
   "metadata": {
    "id": "ZsKHo8wFT88C"
   },
   "outputs": [],
   "source": [
    "# Python Program for\n",
    "# Creation of String\n",
    "\t\n",
    "# Creating a String\n",
    "# with single Quotes\n",
    "String1 = 'Welcome to the \"Gujarat University\"'\n",
    "print(\"String with the use of Single Quotes: \")\n",
    "print(String1)\n",
    "\t\n",
    "# Creating a String\n",
    "# with double Quotes\n",
    "String1 = \"I'm a Student\"\n",
    "print(\"\\nString with the use of Double Quotes: \")\n",
    "print(String1)\n",
    "print(type(String1))\n",
    "\t\n",
    "# Creating a String\n",
    "# with triple Quotes\n",
    "String1 = '''I'm a Gujarat University Student and I live in a world of \"Tech\"'''\n",
    "print(\"\\nString with the use of Triple Quotes: \")\n",
    "print(String1)\n",
    "print(type(String1))\n",
    "\n",
    "# Creating String with triple\n",
    "# Quotes allows multiple lines\n",
    "String1 = '''\n",
    "\n",
    "Geeks\n",
    "For\n",
    "Life\n",
    "'''\n",
    "print(\"\\nCreating a multiline String: \")\n",
    "print(String1)\n"
   ]
  },
  {
   "cell_type": "markdown",
   "metadata": {
    "id": "x87doToKP__y"
   },
   "source": [
    "#### Lists\n",
    "\n"
   ]
  },
  {
   "cell_type": "code",
   "execution_count": null,
   "metadata": {
    "id": "EwfElHuwUaaa"
   },
   "outputs": [],
   "source": [
    "# Python program to demonstrate  \n",
    "# Creation of List  \n",
    "    \n",
    "# Creating a List \n",
    "List = [] \n",
    "print(\"Initial blank List: \") \n",
    "print(List) \n",
    "    \n",
    "# Creating a List with  \n",
    "# the use of a String \n",
    "List = ['Gujart University'] \n",
    "print(\"\\nList with the use of String: \") \n",
    "print(List) \n",
    "    \n",
    "# Creating a List with \n",
    "# the use of multiple values \n",
    "List = [\"Gujarat\", \"University\", \"2022\"] \n",
    "print(\"\\nList containing multiple values: \") \n",
    "print(List[0])  \n",
    "print(List[2]) \n",
    "    \n",
    "# Creating a Multi-Dimensional List \n",
    "# (By Nesting a list inside a List) \n",
    "List = [['Gujarat', 'University'], ['2022']] \n",
    "print(\"\\nMulti-Dimensional List: \") \n",
    "print(List) "
   ]
  },
  {
   "cell_type": "markdown",
   "metadata": {
    "id": "Oq8A77bDQML6"
   },
   "source": [
    "#### Set"
   ]
  },
  {
   "cell_type": "code",
   "execution_count": null,
   "metadata": {
    "id": "fPgnYmkgX27j"
   },
   "outputs": [],
   "source": [
    "# Python program to demonstrate\n",
    "# creation of Set\n",
    "\t\n",
    "# Creating an empty tuple\n",
    "Tuple1 = ()\n",
    "print(\"Initial empty Tuple: \")\n",
    "print (Tuple1)\n",
    "\t\n",
    "# Creating a Tuple with\n",
    "# the use of Strings\n",
    "Tuple1 = ('Geeks', 'For')\n",
    "print(\"\\nTuple with the use of String: \")\n",
    "print(Tuple1)\n",
    "\t\n",
    "# Creating a Tuple with\n",
    "# the use of list\n",
    "list1 = [1, 2, 4, 5, 6]\n",
    "print(\"\\nTuple using List: \")\n",
    "print(tuple(list1))\n",
    "\n",
    "# Creating a Tuple with the\n",
    "# use of built-in function\n",
    "Tuple1 = tuple('Geeks')\n",
    "print(\"\\nTuple with the use of function: \")\n",
    "print(Tuple1)\n",
    "\n",
    "# Creating a Tuple\n",
    "# with nested tuples\n",
    "Tuple1 = (0, 1, 2, 3)\n",
    "\n",
    "Tuple2 = ('python', 'geek')\n",
    "Tuple3 = (Tuple1, Tuple2)\n",
    "\n",
    "print(\"\\nTuple with nested tuples: \")\n",
    "print(Tuple3)\n"
   ]
  },
  {
   "cell_type": "code",
   "execution_count": null,
   "metadata": {
    "id": "tI9yW2jJajYz"
   },
   "outputs": [],
   "source": [
    "# Python program to demonstrate  \n",
    "# Creation of Set in Python \n",
    "    \n",
    "# Creating a Set \n",
    "set1 = set() \n",
    "print(\"Initial blank Set: \") \n",
    "print(set1) \n",
    "    \n",
    "# Creating a Set with  \n",
    "# the use of a String \n",
    "set1 = set(\"pythonforLife\") \n",
    "print(\"\\nSet with the use of String: \") \n",
    "print(set1) \n",
    "  \n",
    "# Creating a Set with \n",
    "# the use of a List \n",
    "set1 = set([\"Coders\", \"are\", \"Coders\"]) \n",
    "print(\"\\nSet with the use of List: \") \n",
    "print(set1) \n",
    "  \n",
    "# Creating a Set with  \n",
    "# a mixed type of values \n",
    "# (Having numbers and strings) \n",
    "set1 = set([1, 2, 'university', 4, 'For', 6, 'university']) \n",
    "print(\"\\nSet with the use of Mixed Values\") \n",
    "print(set1) "
   ]
  },
  {
   "cell_type": "code",
   "execution_count": null,
   "metadata": {
    "id": "96QjClOPap5C"
   },
   "outputs": [],
   "source": [
    "# Python program to demonstrate\n",
    "# Accessing of elements in a set\n",
    "\t\n",
    "# Creating a set\n",
    "set1 = set([\"student\", \"are\", \"coding\"])\n",
    "print(\"\\nInitial set\")\n",
    "print(set1)\n",
    "\t\n",
    "# Accessing element using\n",
    "# for loop\n",
    "print(\"\\nElements of set: \")\n",
    "for i in set1:\n",
    "\tprint(i, end =\" \")\n",
    "\t\n",
    "# Checking the element\n",
    "# using in keyword\n",
    "print(\"conding\" in set1)\n"
   ]
  },
  {
   "cell_type": "markdown",
   "metadata": {
    "id": "IvNo2IlXRlAS"
   },
   "source": [
    "#### Dictionary"
   ]
  },
  {
   "cell_type": "code",
   "execution_count": null,
   "metadata": {
    "id": "yeh4UohDa3Zy"
   },
   "outputs": [],
   "source": [
    "# Creating an empty Dictionary\n",
    "Dict = {}\n",
    "print(\"Empty Dictionary: \")\n",
    "print(Dict)\n",
    "\t\n",
    "# Creating a Dictionary\n",
    "# with Integer Keys\n",
    "Dict = {1: 'Gujarat', 2: 'University'}\n",
    "print(\"\\nDictionary with the use of Integer Keys: \")\n",
    "print(Dict)\n",
    "\t\n",
    "# Creating a Dictionary\n",
    "# with Mixed keys\n",
    "Dict = {'Name': 'Gujarat', 1: [1, 2, 3, 4]}\n",
    "print(\"\\nDictionary with the use of Mixed Keys: \")\n",
    "print(Dict)\n",
    "\t\n",
    "# Creating a Dictionary\n",
    "# with dict() method\n",
    "Dict = dict({1: 'Gujarat', 2: 'University', 3:'EDA'})\n",
    "print(\"\\nDictionary with the use of dict(): \")\n",
    "print(Dict)\n",
    "\t\n",
    "# Creating a Dictionary\n",
    "# with each item as a Pair\n",
    "Dict = dict([(1, 'Gujarat'), (2, 'For')])\n",
    "print(\"\\nDictionary with each item as a pair: \")\n",
    "print(Dict)\n"
   ]
  },
  {
   "cell_type": "markdown",
   "metadata": {
    "id": "H5kucPV9bFYq"
   },
   "source": [
    "### **2. Operators in Python**\n",
    "\n"
   ]
  },
  {
   "cell_type": "markdown",
   "metadata": {
    "id": "npm615xSGi9_"
   },
   "source": [
    "Operators are used to perform operations on variables and values.\n",
    "In the example below, we use the + operator to add together two values:\n",
    "\n",
    "[Click Here to read more](https://www.w3schools.com/python/python_operators.asp)"
   ]
  },
  {
   "cell_type": "code",
   "execution_count": null,
   "metadata": {
    "id": "IXUF451nbGZR"
   },
   "outputs": [],
   "source": [
    "x = 10\n",
    "y = 15\n",
    "\n",
    "print(x + y)\n",
    "print(x - y)\n",
    "print(x * y)\n",
    "print(\"%.2f\" % (x/y))\n",
    "print(round((x/y), 2))\n",
    "print(x % y)\n",
    "print(x ** y)\n",
    "print(y // x)"
   ]
  },
  {
   "cell_type": "code",
   "execution_count": null,
   "metadata": {
    "id": "9pGSIrOK0DlI"
   },
   "outputs": [],
   "source": []
  },
  {
   "cell_type": "code",
   "execution_count": null,
   "metadata": {
    "id": "a0v4LBJU-dDt"
   },
   "outputs": [],
   "source": [
    "x = 86\n",
    "y = 86\n",
    "\n",
    "print(x == y)\n",
    "print(x != y)\n",
    "print(x > y)\n",
    "print(x < y)\n",
    "print(x >= y)\n",
    "print(x <= y)"
   ]
  },
  {
   "cell_type": "code",
   "execution_count": null,
   "metadata": {
    "id": "kQFpAzAY0jQO"
   },
   "outputs": [],
   "source": []
  },
  {
   "cell_type": "code",
   "execution_count": null,
   "metadata": {
    "id": "C51f1Osd-ePE"
   },
   "outputs": [],
   "source": [
    "x = 91\n",
    "\n",
    "print((x > 80) & (x < 90)) "
   ]
  },
  {
   "cell_type": "code",
   "execution_count": null,
   "metadata": {
    "id": "_Kvv7YNB_CPF"
   },
   "outputs": [],
   "source": [
    "x = 84\n",
    "y = 90\n",
    "x is y"
   ]
  },
  {
   "cell_type": "markdown",
   "metadata": {
    "id": "pvxl7ohQDptY"
   },
   "source": [
    "### **3. Python If ... Else**"
   ]
  },
  {
   "cell_type": "code",
   "execution_count": null,
   "metadata": {
    "id": "76Ep08DSDqjr"
   },
   "outputs": [],
   "source": [
    "a = 33\n",
    "b = 200\n",
    "if b > a:\n",
    "  print(\"b is greater than a\")\n",
    "else:\n",
    "  print(\"a is greater than b\")"
   ]
  },
  {
   "cell_type": "code",
   "execution_count": null,
   "metadata": {
    "id": "RCvQxa89EPhc"
   },
   "outputs": [],
   "source": [
    "a = 33\n",
    "b = 33\n",
    "if b > a:\n",
    "  print(\"b is greater than a\")\n",
    "elif a == b:\n",
    "  print(\"a and b are equal\")"
   ]
  },
  {
   "cell_type": "code",
   "execution_count": null,
   "metadata": {
    "id": "uxkHFy3BETWr"
   },
   "outputs": [],
   "source": [
    "a = 200\n",
    "b = 33\n",
    "if b > a:\n",
    "  print(\"b is greater than a\")\n",
    "elif a == b:\n",
    "  print(\"a and b are equal\")\n",
    "else:\n",
    "  print(\"a is greater than b\")"
   ]
  },
  {
   "cell_type": "code",
   "execution_count": null,
   "metadata": {
    "id": "PSqfVyxmEXgb"
   },
   "outputs": [],
   "source": [
    "a = 200\n",
    "b = 33\n",
    "if b > a:\n",
    "  print(\"b is greater than a\")\n",
    "else:\n",
    "  print(\"b is not greater than a\")"
   ]
  },
  {
   "cell_type": "code",
   "execution_count": null,
   "metadata": {
    "id": "gZQp4TPkEa70"
   },
   "outputs": [],
   "source": [
    "# Short Hand Technique \n",
    "a =130\n",
    "b = 130\n",
    "\n",
    "if a > b: print(\"a is greater than b\")"
   ]
  },
  {
   "cell_type": "code",
   "execution_count": null,
   "metadata": {
    "id": "zfZfSBSxEe4E"
   },
   "outputs": [],
   "source": [
    "a = 2\n",
    "b = 330\n",
    "print(\"A\") if a > b else print(\"B\")"
   ]
  },
  {
   "cell_type": "code",
   "execution_count": null,
   "metadata": {
    "id": "eC8lBk8pEiQL"
   },
   "outputs": [],
   "source": [
    "# Ternary Operators\n",
    "#   condition ? exprIfTrue : exprIfFalse\n",
    "\n",
    "a = 90\n",
    "b = 90\n",
    "print(\"A\") if a > b else print(\"=\") if a == b else print(\"B\")"
   ]
  },
  {
   "cell_type": "code",
   "execution_count": null,
   "metadata": {
    "id": "3IkuiqVVEtsT"
   },
   "outputs": [],
   "source": [
    "x = 41\n",
    "\n",
    "if x > 10:\n",
    "  print(\"Above ten,\")\n",
    "  if x > 20:\n",
    "    print(\"and also above 20!\")\n",
    "  else:\n",
    "    print(\"but not above 20.\")"
   ]
  },
  {
   "cell_type": "markdown",
   "metadata": {
    "id": "5e6_PAK3FQeX"
   },
   "source": [
    "# Exercise 🙆"
   ]
  },
  {
   "cell_type": "code",
   "execution_count": null,
   "metadata": {
    "id": "DCZdsID0FV1b"
   },
   "outputs": [],
   "source": [
    "# Make a dictionary with atleast 5 countries and their capitals."
   ]
  },
  {
   "cell_type": "code",
   "execution_count": 1,
   "metadata": {},
   "outputs": [
    {
     "data": {
      "text/plain": [
       "{'canada': 'ottawa',\n",
       " 'UK': 'london',\n",
       " 'USA': 'washington',\n",
       " 'india': 'Delhi',\n",
       " 'bangladesh': 'DHAKA'}"
      ]
     },
     "execution_count": 1,
     "metadata": {},
     "output_type": "execute_result"
    }
   ],
   "source": [
    "dict = {'canada':'ottawa', 'UK':'london', 'USA':'washington','india':'Delhi' ,'bangladesh':'DHAKA'}\n",
    "dict"
   ]
  },
  {
   "cell_type": "code",
   "execution_count": null,
   "metadata": {
    "colab": {
     "base_uri": "https://localhost:8080/"
    },
    "id": "5REwL8lmFurL",
    "outputId": "45ba531c-b97b-4e13-daf6-a8695db82b28"
   },
   "outputs": [
    {
     "name": "stdout",
     "output_type": "stream",
     "text": [
      "21\n",
      "Yess\n"
     ]
    }
   ],
   "source": [
    "# Make a program to check whether a number is divisible by 7 or not."
   ]
  },
  {
   "cell_type": "code",
   "execution_count": 3,
   "metadata": {},
   "outputs": [
    {
     "name": "stdout",
     "output_type": "stream",
     "text": [
      "Enter num to check: 7\n",
      "Divisible\n"
     ]
    }
   ],
   "source": [
    "num = int(input(\"Enter num to check: \"))\n",
    "if num %7==0:\n",
    "    print('Divisible')\n",
    "else:\n",
    "    print('Not Divisible')"
   ]
  },
  {
   "cell_type": "code",
   "execution_count": null,
   "metadata": {
    "colab": {
     "base_uri": "https://localhost:8080/"
    },
    "id": "XAngM61MGECL",
    "outputId": "478a68ed-3bc8-456a-b750-4bf0e6965bc6"
   },
   "outputs": [
    {
     "name": "stdout",
     "output_type": "stream",
     "text": [
      "44\n",
      "111.2\n"
     ]
    }
   ],
   "source": [
    "# Make a program to convert Celsius and Fahrenheit. # use input function to take user input."
   ]
  },
  {
   "cell_type": "code",
   "execution_count": 8,
   "metadata": {},
   "outputs": [
    {
     "name": "stdout",
     "output_type": "stream",
     "text": [
      "Enter celcius to conver into fahrenheit \n",
      "30\n",
      "30 celcius =  86 fahrenheit\n"
     ]
    }
   ],
   "source": [
    "celcius = int(input('Enter celcius to conver into fahrenheit \\n'))\n",
    "f=int(celcius*1.8+32)\n",
    "print(celcius,'celcius = ',f,'fahrenheit')"
   ]
  },
  {
   "cell_type": "code",
   "execution_count": null,
   "metadata": {
    "colab": {
     "base_uri": "https://localhost:8080/"
    },
    "id": "-y2318C-Gcbc",
    "outputId": "c45f3eba-eac5-4002-8ffb-db0c34869f66"
   },
   "outputs": [
    {
     "name": "stdout",
     "output_type": "stream",
     "text": [
      "students\n",
      "No\n"
     ]
    }
   ],
   "source": [
    "# Make a program that checks the string contains this list of words \n",
    "# Delhi, Ahmedabad, Mumbai, India, Students, Python"
   ]
  },
  {
   "cell_type": "code",
   "execution_count": 16,
   "metadata": {},
   "outputs": [
    {
     "name": "stdout",
     "output_type": "stream",
     "text": [
      "Enter word to search in list :\n",
      "delhi\n",
      "Word found\n"
     ]
    }
   ],
   "source": [
    "list = ['Delhi', 'Ahmedabad', 'Mumbai', 'India', 'Students', 'Python']\n",
    "word = input(\"Enter word to search in list :\\n\")\n",
    "for i in list:\n",
    "    if i in list:\n",
    "        print(\"Word found\")\n",
    "        break\n",
    "    else:\n",
    "        print(\"Not Found\")\n",
    "        break"
   ]
  },
  {
   "cell_type": "code",
   "execution_count": null,
   "metadata": {
    "colab": {
     "base_uri": "https://localhost:8080/",
     "height": 35
    },
    "id": "wT310PDu3Fgg",
    "outputId": "526c13a5-7653-4d03-8143-6140e01ab43c"
   },
   "outputs": [
    {
     "data": {
      "application/vnd.google.colaboratory.intrinsic+json": {
       "type": "string"
      },
      "text/plain": [
       "'MEHT'"
      ]
     },
     "execution_count": 2,
     "metadata": {},
     "output_type": "execute_result"
    }
   ],
   "source": [
    " a= \"THEMORNINGISFILLEDWITHAMAZINGSUNSHINE\"\n",
    "a[3::-1]"
   ]
  }
 ],
 "metadata": {
  "colab": {
   "provenance": []
  },
  "kernelspec": {
   "display_name": "Python 3 (ipykernel)",
   "language": "python",
   "name": "python3"
  },
  "language_info": {
   "codemirror_mode": {
    "name": "ipython",
    "version": 3
   },
   "file_extension": ".py",
   "mimetype": "text/x-python",
   "name": "python",
   "nbconvert_exporter": "python",
   "pygments_lexer": "ipython3",
   "version": "3.9.6"
  }
 },
 "nbformat": 4,
 "nbformat_minor": 1
}
