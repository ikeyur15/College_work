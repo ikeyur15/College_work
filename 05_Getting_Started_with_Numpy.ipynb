{
 "cells": [
  {
   "cell_type": "markdown",
   "metadata": {
    "id": "qhXTqUpS20En"
   },
   "source": [
    "# **Basics of Numpy**  "
   ]
  },
  {
   "cell_type": "markdown",
   "metadata": {
    "id": "mIKCKwdy5SVU"
   },
   "source": [
    "### **NUMPY**\n",
    "\n",
    "> NumPy is a Python library used for working with arrays. It also has functions for working in domain of linear algebra, fourier transform, and matrices.\n",
    "\n",
    "> An array is a collection of homogeneous data-types that are stored in contiguous memory locations."
   ]
  },
  {
   "cell_type": "markdown",
   "metadata": {
    "id": "-FJ3bp-3BO0Y"
   },
   "source": [
    "Create a Python List as follows:"
   ]
  },
  {
   "cell_type": "code",
   "execution_count": null,
   "metadata": {
    "id": "SzxoADK2BKMq"
   },
   "outputs": [],
   "source": [
    "# Create a python list\n",
    "\n",
    "a = [\"0\", 1, \"two\", \"3\", 4]"
   ]
  },
  {
   "cell_type": "code",
   "execution_count": null,
   "metadata": {
    "colab": {
     "base_uri": "https://localhost:8080/"
    },
    "id": "AM1CiztXBUa7",
    "outputId": "5a83da8d-2734-486d-bcf0-0b4a8b85d3db"
   },
   "outputs": [
    {
     "name": "stdout",
     "output_type": "stream",
     "text": [
      "a[0]: 0\n",
      "a[1]: 1\n",
      "a[2]: two\n",
      "a[3]: 3\n",
      "a[4]: 4\n"
     ]
    }
   ],
   "source": [
    "# Print each element\n",
    "\n",
    "print(\"a[0]:\", a[0])\n",
    "print(\"a[1]:\", a[1])\n",
    "print(\"a[2]:\", a[2])\n",
    "print(\"a[3]:\", a[3])\n",
    "print(\"a[4]:\", a[4])"
   ]
  },
  {
   "cell_type": "markdown",
   "metadata": {
    "id": "AMWXPfYfBZBB"
   },
   "source": [
    "## **What is Numpy?**\n",
    "\n",
    "A numpy array is similar to a list. It's usually fixed in size and each element is of the same type. We can cast a list to a numpy array by first importing numpy: "
   ]
  },
  {
   "cell_type": "code",
   "execution_count": null,
   "metadata": {
    "id": "cfB279qG0oYQ"
   },
   "outputs": [],
   "source": [
    "# import numpy library\n",
    "\n",
    "import numpy as np"
   ]
  },
  {
   "cell_type": "code",
   "execution_count": null,
   "metadata": {
    "colab": {
     "base_uri": "https://localhost:8080/"
    },
    "id": "fpg3RLqNBd6N",
    "outputId": "5b3f489a-d8ef-43aa-ac0a-9f113199ec40"
   },
   "outputs": [
    {
     "data": {
      "text/plain": [
       "array([0, 1, 2, 3, 4])"
      ]
     },
     "execution_count": 3,
     "metadata": {},
     "output_type": "execute_result"
    }
   ],
   "source": [
    "# Create a numpy array\n",
    "\n",
    "a = np.array([0, 1, 2, 3, 4])\n",
    "a"
   ]
  },
  {
   "cell_type": "code",
   "execution_count": null,
   "metadata": {
    "colab": {
     "base_uri": "https://localhost:8080/"
    },
    "id": "wPgYNXgoIECN",
    "outputId": "7fbc073b-ba85-4dda-8c20-974a20257583"
   },
   "outputs": [
    {
     "data": {
      "text/plain": [
       "numpy.ndarray"
      ]
     },
     "execution_count": 6,
     "metadata": {},
     "output_type": "execute_result"
    }
   ],
   "source": [
    "type(a)"
   ]
  },
  {
   "cell_type": "code",
   "execution_count": null,
   "metadata": {
    "colab": {
     "base_uri": "https://localhost:8080/"
    },
    "id": "uvCzexxqBsUI",
    "outputId": "042b38ef-a1ba-40c0-dcec-236a39c4c1db"
   },
   "outputs": [
    {
     "name": "stdout",
     "output_type": "stream",
     "text": [
      "a[0]: 0\n",
      "a[1]: 1\n",
      "a[2]: 2\n",
      "a[3]: 3\n",
      "a[4]: 4\n"
     ]
    }
   ],
   "source": [
    "# Print each element\n",
    "\n",
    "print(\"a[0]:\", a[0])\n",
    "print(\"a[1]:\", a[1])\n",
    "print(\"a[2]:\", a[2])\n",
    "print(\"a[3]:\", a[3])\n",
    "print(\"a[4]:\", a[4])"
   ]
  },
  {
   "cell_type": "code",
   "execution_count": null,
   "metadata": {
    "colab": {
     "base_uri": "https://localhost:8080/"
    },
    "id": "C1ffynkT5WFB",
    "outputId": "6ee58a74-a3ad-4d10-a46c-6c8c52be6042"
   },
   "outputs": [
    {
     "data": {
      "text/plain": [
       "array([ 4, 56,  7,  3,  5,  2, 34,  7,  3, 11, 45, 22])"
      ]
     },
     "execution_count": 5,
     "metadata": {},
     "output_type": "execute_result"
    }
   ],
   "source": [
    "#x = np.arange(100)\n",
    "x = np.array([4,56,7,3,5,2,34,7,3,11,45,22])\n",
    "x"
   ]
  },
  {
   "cell_type": "code",
   "execution_count": null,
   "metadata": {
    "colab": {
     "base_uri": "https://localhost:8080/"
    },
    "id": "E4bRA64K5W6w",
    "outputId": "0818062c-8a01-4003-8564-8cf116d5c3c9"
   },
   "outputs": [
    {
     "data": {
      "text/plain": [
       "array([ 4, 56,  7,  3,  5])"
      ]
     },
     "execution_count": 6,
     "metadata": {},
     "output_type": "execute_result"
    }
   ],
   "source": [
    "x[:5] "
   ]
  },
  {
   "cell_type": "code",
   "execution_count": null,
   "metadata": {
    "colab": {
     "base_uri": "https://localhost:8080/"
    },
    "id": "S0sK8-JlBvNj",
    "outputId": "86674f3e-951a-4bb8-a27f-2c549ac522ba"
   },
   "outputs": [
    {
     "data": {
      "text/plain": [
       "numpy.ndarray"
      ]
     },
     "execution_count": 7,
     "metadata": {},
     "output_type": "execute_result"
    }
   ],
   "source": [
    "# Check the type of the array\n",
    "\n",
    "type(a)"
   ]
  },
  {
   "cell_type": "markdown",
   "metadata": {
    "id": "guCTiAreBxJs"
   },
   "source": [
    "As numpy arrays contain data of the same type, we can use the attribute \"dtype\" to obtain the Data-type of the array’s elements. In this case a 64-bit integer: \n"
   ]
  },
  {
   "cell_type": "code",
   "execution_count": null,
   "metadata": {
    "colab": {
     "base_uri": "https://localhost:8080/"
    },
    "id": "RBvU5TxABzXZ",
    "outputId": "13f21cde-10df-4577-d32b-ade8b082e637"
   },
   "outputs": [
    {
     "data": {
      "text/plain": [
       "dtype('int64')"
      ]
     },
     "execution_count": 11,
     "metadata": {},
     "output_type": "execute_result"
    }
   ],
   "source": [
    "# Check the type of the values stored in numpy array\n",
    "\n",
    "a.dtype"
   ]
  },
  {
   "cell_type": "code",
   "execution_count": null,
   "metadata": {
    "colab": {
     "base_uri": "https://localhost:8080/"
    },
    "id": "XtrBctdtB7Ez",
    "outputId": "1e2a41b6-0dbd-4b68-85d0-eb6942b45523"
   },
   "outputs": [
    {
     "data": {
      "text/plain": [
       "(numpy.ndarray, dtype('float64'))"
      ]
     },
     "execution_count": 8,
     "metadata": {},
     "output_type": "execute_result"
    }
   ],
   "source": [
    "# Create a numpy array\n",
    "\n",
    "b = np.array([3.1, 11.02, 6.2, 213.2, 5.2])\n",
    "\n",
    "# Check the type of array\n",
    "\n",
    "type(b), b.dtype"
   ]
  },
  {
   "cell_type": "code",
   "execution_count": null,
   "metadata": {
    "colab": {
     "base_uri": "https://localhost:8080/"
    },
    "id": "q47XC9xnCL8z",
    "outputId": "50803038-4404-4869-f8b7-525eb41f5b15"
   },
   "outputs": [
    {
     "data": {
      "text/plain": [
       "array([20,  1,  2,  3,  4])"
      ]
     },
     "execution_count": 9,
     "metadata": {},
     "output_type": "execute_result"
    }
   ],
   "source": [
    "# Create numpy array\n",
    "\n",
    "c = np.array([20, 1, 2, 3, 4])\n",
    "c"
   ]
  },
  {
   "cell_type": "code",
   "execution_count": null,
   "metadata": {
    "colab": {
     "base_uri": "https://localhost:8080/"
    },
    "id": "tCo8bBzUCJib",
    "outputId": "92e0a637-c1ad-4345-e847-a746a7eafa83"
   },
   "outputs": [
    {
     "data": {
      "text/plain": [
       "array([100,   1,   2,   3,   4])"
      ]
     },
     "execution_count": 10,
     "metadata": {},
     "output_type": "execute_result"
    }
   ],
   "source": [
    "# Assign the first element to 100\n",
    "\n",
    "c[0] = 100\n",
    "c"
   ]
  },
  {
   "cell_type": "code",
   "execution_count": null,
   "metadata": {
    "colab": {
     "base_uri": "https://localhost:8080/"
    },
    "id": "gS8dHWc6CNVw",
    "outputId": "e3f4a056-1bcc-4fb8-95d2-9b638fae3512"
   },
   "outputs": [
    {
     "data": {
      "text/plain": [
       "array([100,   1,   2,   3,   0])"
      ]
     },
     "execution_count": 11,
     "metadata": {},
     "output_type": "execute_result"
    }
   ],
   "source": [
    "# Assign the 5th element to 0\n",
    "\n",
    "c[4] = 0\n",
    "c"
   ]
  },
  {
   "cell_type": "markdown",
   "metadata": {
    "id": "u8O_yMnACQCK"
   },
   "source": [
    "### Slicing\n",
    "\n",
    "Like lists, we can slice the numpy array, and we can select the elements from 1 to 3 and assign it to a new numpy array <code>d</code> as follows:"
   ]
  },
  {
   "cell_type": "code",
   "execution_count": null,
   "metadata": {
    "colab": {
     "base_uri": "https://localhost:8080/"
    },
    "id": "XNhr82nGCPfz",
    "outputId": "f8775451-483a-4cd2-c270-53a5b68850ab"
   },
   "outputs": [
    {
     "data": {
      "text/plain": [
       "array([1, 2, 3])"
      ]
     },
     "execution_count": 12,
     "metadata": {},
     "output_type": "execute_result"
    }
   ],
   "source": [
    "# Slicing the numpy array\n",
    "\n",
    "d = c[1:4]\n",
    "d"
   ]
  },
  {
   "cell_type": "code",
   "execution_count": null,
   "metadata": {
    "colab": {
     "base_uri": "https://localhost:8080/"
    },
    "id": "CawgOpEWJOC4",
    "outputId": "b55410f0-7a6d-4b9b-c098-64f69e0ba30a"
   },
   "outputs": [
    {
     "data": {
      "text/plain": [
       "[100, 1, 2, 4, 7]"
      ]
     },
     "execution_count": 13,
     "metadata": {},
     "output_type": "execute_result"
    }
   ],
   "source": [
    "listL = [100,   1,   2, 300, 400]\n",
    "listL[3:5] = 4,7\n",
    "listL"
   ]
  },
  {
   "cell_type": "code",
   "execution_count": null,
   "metadata": {
    "colab": {
     "base_uri": "https://localhost:8080/"
    },
    "id": "XRLjquOUCYsk",
    "outputId": "ac372c55-a2a5-4b87-c44a-f446d880ba37"
   },
   "outputs": [
    {
     "data": {
      "text/plain": [
       "array([100,   1,   2, 300, 400])"
      ]
     },
     "execution_count": 14,
     "metadata": {},
     "output_type": "execute_result"
    }
   ],
   "source": [
    "c[3:5] = 300, 400\n",
    "c"
   ]
  },
  {
   "cell_type": "markdown",
   "metadata": {
    "id": "K2u0PPL7DDFd"
   },
   "source": [
    "## **Assign Value with List**"
   ]
  },
  {
   "cell_type": "markdown",
   "metadata": {
    "id": "cE7e5NQpDFdx"
   },
   "source": [
    "Similarly, we can use a list to select a specific index. The list ' select ' contains several values:"
   ]
  },
  {
   "cell_type": "code",
   "execution_count": null,
   "metadata": {
    "colab": {
     "base_uri": "https://localhost:8080/"
    },
    "id": "3g8eVGy_Cbz6",
    "outputId": "d029b47e-0ea3-421d-ed98-d8ea3f407576"
   },
   "outputs": [
    {
     "data": {
      "text/plain": [
       "array([100,   1,   2, 300, 400])"
      ]
     },
     "execution_count": 15,
     "metadata": {},
     "output_type": "execute_result"
    }
   ],
   "source": [
    "# Create the index list\n",
    "\n",
    "select = [0, 2, 3]\n",
    "c"
   ]
  },
  {
   "cell_type": "code",
   "execution_count": null,
   "metadata": {
    "colab": {
     "base_uri": "https://localhost:8080/"
    },
    "id": "BqNr1GyNCc1C",
    "outputId": "7b308e8d-0a61-4afa-deca-003a23879b49"
   },
   "outputs": [
    {
     "data": {
      "text/plain": [
       "array([100,   2, 300])"
      ]
     },
     "execution_count": 48,
     "metadata": {},
     "output_type": "execute_result"
    }
   ],
   "source": [
    "# Use List to select elements\n",
    "\n",
    "d = c[select]\n",
    "d"
   ]
  },
  {
   "cell_type": "code",
   "execution_count": null,
   "metadata": {
    "colab": {
     "base_uri": "https://localhost:8080/"
    },
    "id": "fS9lRj0CCoNY",
    "outputId": "3b44b9ed-5e91-4717-8f7d-9303d42e667a"
   },
   "outputs": [
    {
     "data": {
      "text/plain": [
       "array([100000,      1, 100000, 100000,    400])"
      ]
     },
     "execution_count": 23,
     "metadata": {},
     "output_type": "execute_result"
    }
   ],
   "source": [
    "# Assign the specified elements to new value\n",
    "\n",
    "c[select] = 100000\n",
    "c"
   ]
  },
  {
   "cell_type": "markdown",
   "metadata": {
    "id": "mb5Ijnt3KInK"
   },
   "source": [
    "<h2 id=\"lin\">Linspace</h2>"
   ]
  },
  {
   "cell_type": "markdown",
   "metadata": {
    "id": "9ARil7cWKInL"
   },
   "source": [
    " A useful function for plotting mathematical functions is \"linespace\".   Linespace returns evenly spaced numbers over a specified interval. We specify the starting point of the sequence and the ending point of the sequence. The parameter \"num\" indicates the Number of samples to generate, in this case 5:"
   ]
  },
  {
   "cell_type": "code",
   "execution_count": null,
   "metadata": {
    "colab": {
     "base_uri": "https://localhost:8080/"
    },
    "id": "g-3le3xwKInM",
    "jupyter": {
     "outputs_hidden": false
    },
    "outputId": "c8f46896-797d-4f64-c80d-947750571fc3"
   },
   "outputs": [
    {
     "data": {
      "text/plain": [
       "array([-2.        , -1.95959596, -1.91919192, -1.87878788, -1.83838384,\n",
       "       -1.7979798 , -1.75757576, -1.71717172, -1.67676768, -1.63636364,\n",
       "       -1.5959596 , -1.55555556, -1.51515152, -1.47474747, -1.43434343,\n",
       "       -1.39393939, -1.35353535, -1.31313131, -1.27272727, -1.23232323,\n",
       "       -1.19191919, -1.15151515, -1.11111111, -1.07070707, -1.03030303,\n",
       "       -0.98989899, -0.94949495, -0.90909091, -0.86868687, -0.82828283,\n",
       "       -0.78787879, -0.74747475, -0.70707071, -0.66666667, -0.62626263,\n",
       "       -0.58585859, -0.54545455, -0.50505051, -0.46464646, -0.42424242,\n",
       "       -0.38383838, -0.34343434, -0.3030303 , -0.26262626, -0.22222222,\n",
       "       -0.18181818, -0.14141414, -0.1010101 , -0.06060606, -0.02020202,\n",
       "        0.02020202,  0.06060606,  0.1010101 ,  0.14141414,  0.18181818,\n",
       "        0.22222222,  0.26262626,  0.3030303 ,  0.34343434,  0.38383838,\n",
       "        0.42424242,  0.46464646,  0.50505051,  0.54545455,  0.58585859,\n",
       "        0.62626263,  0.66666667,  0.70707071,  0.74747475,  0.78787879,\n",
       "        0.82828283,  0.86868687,  0.90909091,  0.94949495,  0.98989899,\n",
       "        1.03030303,  1.07070707,  1.11111111,  1.15151515,  1.19191919,\n",
       "        1.23232323,  1.27272727,  1.31313131,  1.35353535,  1.39393939,\n",
       "        1.43434343,  1.47474747,  1.51515152,  1.55555556,  1.5959596 ,\n",
       "        1.63636364,  1.67676768,  1.71717172,  1.75757576,  1.7979798 ,\n",
       "        1.83838384,  1.87878788,  1.91919192,  1.95959596,  2.        ])"
      ]
     },
     "execution_count": 25,
     "metadata": {},
     "output_type": "execute_result"
    }
   ],
   "source": [
    "# Makeup a numpy array within [-2, 2] and 5 elements\n",
    "\n",
    "np.linspace(-2, 2, num=100)"
   ]
  },
  {
   "cell_type": "markdown",
   "metadata": {
    "id": "taMwHv08KInQ"
   },
   "source": [
    "If we change the parameter <code>num</code> to 9, we get 9 evenly spaced numbers over the interval from -2 to 2: "
   ]
  },
  {
   "cell_type": "code",
   "execution_count": null,
   "metadata": {
    "id": "5D6oYAajKInS",
    "jupyter": {
     "outputs_hidden": false
    }
   },
   "outputs": [],
   "source": [
    "# Makeup a numpy array within [-2, 2] and 9 elements\n",
    "\n",
    "np.linspace(-2, 2, num=9)"
   ]
  },
  {
   "cell_type": "markdown",
   "metadata": {
    "id": "F585lKB5KInV"
   },
   "source": [
    "We can use the function line space to generate 100 evenly spaced samples from the interval 0 to 2π: "
   ]
  },
  {
   "cell_type": "code",
   "execution_count": null,
   "metadata": {
    "id": "dOZ7SgJ_KInW",
    "jupyter": {
     "outputs_hidden": false
    }
   },
   "outputs": [],
   "source": [
    "# Makeup a numpy array within [0, 2π] and 100 elements \n",
    "\n",
    "x = np.linspace(0, 2*np.pi, num=100)"
   ]
  },
  {
   "cell_type": "markdown",
   "metadata": {
    "id": "jO07CG60bIqw"
   },
   "source": [
    "________________________________________________"
   ]
  },
  {
   "cell_type": "markdown",
   "metadata": {
    "id": "ad6AlTfLdFBl"
   },
   "source": [
    "### **Sorting in Numpy**"
   ]
  },
  {
   "cell_type": "code",
   "execution_count": null,
   "metadata": {
    "colab": {
     "base_uri": "https://localhost:8080/"
    },
    "id": "SFgwmfM-cmrb",
    "outputId": "12df0603-8011-45d3-9224-22b2c025c4e7"
   },
   "outputs": [
    {
     "data": {
      "text/plain": [
       "array([[1, 4],\n",
       "       [1, 3]])"
      ]
     },
     "execution_count": 94,
     "metadata": {},
     "output_type": "execute_result"
    }
   ],
   "source": [
    "a = np.array([[1,4],[3,1]])\n",
    "np.sort(a)                # sort along the last axis"
   ]
  },
  {
   "cell_type": "code",
   "execution_count": null,
   "metadata": {
    "colab": {
     "base_uri": "https://localhost:8080/"
    },
    "id": "3FxGI41UdBHI",
    "outputId": "042be3d9-4264-4b66-8517-a65d56c9e6d7"
   },
   "outputs": [
    {
     "data": {
      "text/plain": [
       "array([1, 1, 3, 4])"
      ]
     },
     "execution_count": 95,
     "metadata": {},
     "output_type": "execute_result"
    }
   ],
   "source": [
    "np.sort(a, axis=None)     # sort the flattened array"
   ]
  },
  {
   "cell_type": "code",
   "execution_count": null,
   "metadata": {
    "colab": {
     "base_uri": "https://localhost:8080/"
    },
    "id": "OHziJmvrdBcA",
    "outputId": "7f404d9e-e964-467b-ad88-0ca67e64e1ac"
   },
   "outputs": [
    {
     "data": {
      "text/plain": [
       "array([[1, 1],\n",
       "       [3, 4]])"
      ]
     },
     "execution_count": 96,
     "metadata": {},
     "output_type": "execute_result"
    }
   ],
   "source": [
    "\n",
    "np.sort(a, axis=0)        # sort along the first axis"
   ]
  },
  {
   "cell_type": "markdown",
   "metadata": {
    "id": "VJEqkN7FbMlP"
   },
   "source": [
    "### **Where in Numpy**\n",
    "\n"
   ]
  },
  {
   "cell_type": "code",
   "execution_count": null,
   "metadata": {
    "colab": {
     "base_uri": "https://localhost:8080/"
    },
    "id": "RO6jdly2bH56",
    "outputId": "984484d0-7f73-4b02-cfef-d32b61d95079"
   },
   "outputs": [
    {
     "name": "stdout",
     "output_type": "stream",
     "text": [
      "[[1 2 3]\n",
      " [4 5 6]\n",
      " [7 8 9]]\n",
      "Indices of elements <4\n",
      "(array([0, 0, 0]), array([0, 1, 2])) \n",
      "\n",
      "Elements which are <4\n",
      "[[4 4 4]\n",
      " [4 5 6]\n",
      " [7 8 9]]\n"
     ]
    }
   ],
   "source": [
    "# a is an array of integers.\n",
    "a = np.array([[1, 2, 3], [4, 5, 6],[7,8,9]])\n",
    "  \n",
    "print(a)\n",
    "  \n",
    "print ('Indices of elements <4')\n",
    "  \n",
    "b = np.where(a<4)\n",
    "\n",
    "print(b,'\\n')\n",
    "\n",
    "print(\"Elements which are <4\")\n",
    "a[b] = 4\n",
    "print(a)"
   ]
  },
  {
   "cell_type": "markdown",
   "metadata": {
    "id": "7xDJ6UgEUrCb"
   },
   "source": [
    "## **2D Elements in Numpy**"
   ]
  },
  {
   "cell_type": "markdown",
   "metadata": {
    "id": "K6ApfLBnNCcw"
   },
   "source": [
    "Consider the list <code>a</code>, the list contains three nested lists **each of equal size**. "
   ]
  },
  {
   "cell_type": "code",
   "execution_count": null,
   "metadata": {
    "id": "RO0EXLxpNCcx",
    "jupyter": {
     "outputs_hidden": false
    }
   },
   "outputs": [],
   "source": [
    "# Create a list\n",
    "\n",
    "a = [[11, 12, 13], [21, 22, 23], [31, 32, 33]]\n",
    "a"
   ]
  },
  {
   "cell_type": "markdown",
   "metadata": {
    "id": "nSdzdBJjNCc2"
   },
   "source": [
    "We can cast the list to a Numpy Array as follow"
   ]
  },
  {
   "cell_type": "code",
   "execution_count": null,
   "metadata": {
    "id": "zX7VgmTaNCc3",
    "jupyter": {
     "outputs_hidden": false
    }
   },
   "outputs": [],
   "source": [
    "# Convert list to Numpy Array\n",
    "# Every element is the same type\n",
    "\n",
    "A = np.array(a)\n",
    "A"
   ]
  },
  {
   "cell_type": "markdown",
   "metadata": {
    "id": "Q9HIXkjWNCc9"
   },
   "source": [
    "We can use the attribute <code>ndim</code> to obtain the number of axes or dimensions referred to as the rank. "
   ]
  },
  {
   "cell_type": "code",
   "execution_count": null,
   "metadata": {
    "id": "nOosr9n4NCdB",
    "jupyter": {
     "outputs_hidden": false
    }
   },
   "outputs": [],
   "source": [
    "# Show the numpy array dimensions\n",
    "\n",
    "A.ndim"
   ]
  },
  {
   "cell_type": "markdown",
   "metadata": {
    "id": "j1WAkDpwNCdH"
   },
   "source": [
    "Attribute <code>shape</code> returns a tuple corresponding to the size or number of each dimension."
   ]
  },
  {
   "cell_type": "code",
   "execution_count": null,
   "metadata": {
    "id": "X-BZBhAsNCdI",
    "jupyter": {
     "outputs_hidden": false
    }
   },
   "outputs": [],
   "source": [
    "# Show the numpy array shape\n",
    "\n",
    "A.shape"
   ]
  },
  {
   "cell_type": "markdown",
   "metadata": {
    "id": "X1cfL_1yNCdQ"
   },
   "source": [
    "The total number of elements in the array is given by the attribute <code>size</code>."
   ]
  },
  {
   "cell_type": "code",
   "execution_count": null,
   "metadata": {
    "id": "wHXYPPDaNCdS",
    "jupyter": {
     "outputs_hidden": false
    }
   },
   "outputs": [],
   "source": [
    "# Show the numpy array size\n",
    "\n",
    "A.size"
   ]
  },
  {
   "cell_type": "markdown",
   "metadata": {
    "id": "AKit72JpNCdX"
   },
   "source": [
    "<hr>"
   ]
  },
  {
   "cell_type": "markdown",
   "metadata": {
    "id": "T12P45lXNCdY"
   },
   "source": [
    "<h2 id=\"access\">Accessing different elements of a Numpy Array</h2>"
   ]
  },
  {
   "cell_type": "markdown",
   "metadata": {
    "id": "Tt8dPA5DNCdY"
   },
   "source": [
    "We can use rectangular brackets to access the different elements of the array. The correspondence between the rectangular brackets and the list and the rectangular representation is shown in the following figure for a 3x3 array:  "
   ]
  },
  {
   "cell_type": "markdown",
   "metadata": {
    "id": "JqJ3q_jiNCdZ"
   },
   "source": [
    "<img src=\"https://s3-api.us-geo.objectstorage.softlayer.net/cf-courses-data/CognitiveClass/PY0101EN/Chapter%205/Images/NumTwoEg.png\" width=\"500\" />"
   ]
  },
  {
   "cell_type": "markdown",
   "metadata": {
    "id": "iZ5F82X0NCda"
   },
   "source": [
    "We can access the 2nd-row 3rd column as shown in the following figure:"
   ]
  },
  {
   "cell_type": "markdown",
   "metadata": {
    "id": "2ui5KY2ONCdb"
   },
   "source": [
    "<img src=\"https://s3-api.us-geo.objectstorage.softlayer.net/cf-courses-data/CognitiveClass/PY0101EN/Chapter%205/Images/NumTwoFT.png\" width=\"400\" />"
   ]
  },
  {
   "cell_type": "markdown",
   "metadata": {
    "id": "M_MJrDtgNCdd"
   },
   "source": [
    " We simply use the square brackets and the indices corresponding to the element we would like:"
   ]
  },
  {
   "cell_type": "code",
   "execution_count": null,
   "metadata": {
    "id": "yhncFqHMNCdd",
    "jupyter": {
     "outputs_hidden": false
    }
   },
   "outputs": [],
   "source": [
    "# Access the element on the second row and third column\n",
    "\n",
    "A[1, 2]"
   ]
  },
  {
   "cell_type": "markdown",
   "metadata": {
    "id": "Hb4inX5qNCdk"
   },
   "source": [
    " We can also use the following notation to obtain the elements: "
   ]
  },
  {
   "cell_type": "code",
   "execution_count": null,
   "metadata": {
    "id": "ElDzX_eoNCdn",
    "jupyter": {
     "outputs_hidden": false
    }
   },
   "outputs": [],
   "source": [
    "# Access the element on the second row and third column\n",
    "\n",
    "A[1][2]"
   ]
  },
  {
   "cell_type": "markdown",
   "metadata": {
    "id": "iZBVxb7hNCd0"
   },
   "source": [
    " Consider the elements shown in the following figure "
   ]
  },
  {
   "cell_type": "markdown",
   "metadata": {
    "id": "AQQWR9qpNCd2"
   },
   "source": [
    "<img src=\"https://s3-api.us-geo.objectstorage.softlayer.net/cf-courses-data/CognitiveClass/PY0101EN/Chapter%205/Images/NumTwoFF.png\" width=\"400\" />"
   ]
  },
  {
   "cell_type": "markdown",
   "metadata": {
    "id": "oauMUJRkNCd4"
   },
   "source": [
    "We can access the element as follows "
   ]
  },
  {
   "cell_type": "code",
   "execution_count": null,
   "metadata": {
    "id": "9yKhs6tbNCd5",
    "jupyter": {
     "outputs_hidden": false
    }
   },
   "outputs": [],
   "source": [
    "# Access the element on the first row and first column\n",
    "\n",
    "A[0][0]"
   ]
  },
  {
   "cell_type": "markdown",
   "metadata": {
    "id": "2i8_4RKHNCd_"
   },
   "source": [
    "We can also use slicing in numpy arrays. Consider the following figure. We would like to obtain the first two columns in the first row"
   ]
  },
  {
   "cell_type": "markdown",
   "metadata": {
    "id": "-n-zgOiQNCeA"
   },
   "source": [
    "<img src=\"https://s3-api.us-geo.objectstorage.softlayer.net/cf-courses-data/CognitiveClass/PY0101EN/Chapter%205/Images/NumTwoFSF.png\" width=\"400\" />"
   ]
  },
  {
   "cell_type": "markdown",
   "metadata": {
    "id": "TS8onRFQNCeB"
   },
   "source": [
    " This can be done with the following syntax "
   ]
  },
  {
   "cell_type": "code",
   "execution_count": null,
   "metadata": {
    "id": "JA4CTMSdNCeD",
    "jupyter": {
     "outputs_hidden": false
    }
   },
   "outputs": [],
   "source": [
    "# Access the element on the first row and first and second columns\n",
    "\n",
    "A[0][0:2]"
   ]
  },
  {
   "cell_type": "markdown",
   "metadata": {
    "id": "JP5mw1pQNCeJ"
   },
   "source": [
    "Similarly, we can obtain the first two rows of the 3rd column as follows:"
   ]
  },
  {
   "cell_type": "code",
   "execution_count": null,
   "metadata": {
    "id": "TlG4RJvANCeK",
    "jupyter": {
     "outputs_hidden": false
    }
   },
   "outputs": [],
   "source": [
    "# Access the element on the first and second rows and third column\n",
    "\n",
    "A[0:2, 2]"
   ]
  },
  {
   "cell_type": "markdown",
   "metadata": {
    "id": "qwxawPPQNCeP"
   },
   "source": [
    "Corresponding to the following figure: "
   ]
  },
  {
   "cell_type": "markdown",
   "metadata": {
    "id": "8wshBWnlNCeQ"
   },
   "source": [
    "<img src=\"https://s3-api.us-geo.objectstorage.softlayer.net/cf-courses-data/CognitiveClass/PY0101EN/Chapter%205/Images/NumTwoTST.png\" width=\"400\" />"
   ]
  },
  {
   "cell_type": "markdown",
   "metadata": {
    "id": "Tgt9GrboNCeQ"
   },
   "source": [
    "<hr>"
   ]
  },
  {
   "cell_type": "markdown",
   "metadata": {
    "id": "8ngjDRVkNCeR"
   },
   "source": [
    "<h2 id=\"op\">Basic Operations</h2>"
   ]
  },
  {
   "cell_type": "markdown",
   "metadata": {
    "id": "c77tfLcpNCeS"
   },
   "source": [
    "We can also add arrays. The process is identical to matrix addition. Matrix addition of <code>X</code> and <code>Y</code> is shown in the following figure:"
   ]
  },
  {
   "cell_type": "markdown",
   "metadata": {
    "id": "H_MOSOk0NCeT"
   },
   "source": [
    "<img src=\"https://s3-api.us-geo.objectstorage.softlayer.net/cf-courses-data/CognitiveClass/PY0101EN/Chapter%205/Images/NumTwoAdd.png\" width=\"500\" />"
   ]
  },
  {
   "cell_type": "markdown",
   "metadata": {
    "id": "6odhG5CeNCeU"
   },
   "source": [
    "The numpy array is given by <code>X</code> and <code>Y</code>"
   ]
  },
  {
   "cell_type": "code",
   "execution_count": null,
   "metadata": {
    "id": "OQEA_thpNCeV",
    "jupyter": {
     "outputs_hidden": false
    }
   },
   "outputs": [],
   "source": [
    "# Create a numpy array X\n",
    "\n",
    "X = np.array([[1, 0], [0, 1]]) \n",
    "X"
   ]
  },
  {
   "cell_type": "code",
   "execution_count": null,
   "metadata": {
    "id": "UI61pRanNCed",
    "jupyter": {
     "outputs_hidden": false
    }
   },
   "outputs": [],
   "source": [
    "# Create a numpy array Y\n",
    "\n",
    "Y = np.array([[2, 1], [1, 2]]) \n",
    "Y"
   ]
  },
  {
   "cell_type": "markdown",
   "metadata": {
    "id": "o2v7D03bNCel"
   },
   "source": [
    " We can add the numpy arrays as follows."
   ]
  },
  {
   "cell_type": "code",
   "execution_count": null,
   "metadata": {
    "id": "k12tDEVGNCem",
    "jupyter": {
     "outputs_hidden": false
    }
   },
   "outputs": [],
   "source": [
    "# Add X and Y\n",
    "\n",
    "Z = X + Y\n",
    "Z"
   ]
  },
  {
   "cell_type": "markdown",
   "metadata": {
    "id": "kN_qAqq0DTuX"
   },
   "source": [
    "## **Numpy - Other Attributes**"
   ]
  },
  {
   "cell_type": "code",
   "execution_count": null,
   "metadata": {
    "id": "AxPAfJrYDSw7"
   },
   "outputs": [],
   "source": [
    "a = np.array([0, 1, 2, 3, 4])"
   ]
  },
  {
   "cell_type": "code",
   "execution_count": null,
   "metadata": {
    "colab": {
     "base_uri": "https://localhost:8080/"
    },
    "id": "U8LFTPV2DfF4",
    "outputId": "6a204632-524c-4672-a010-916505eeaa69"
   },
   "outputs": [
    {
     "data": {
      "text/plain": [
       "4"
      ]
     },
     "execution_count": 81,
     "metadata": {},
     "output_type": "execute_result"
    }
   ],
   "source": [
    "# Get the size of numpy array\n",
    "\n",
    "a.size"
   ]
  },
  {
   "cell_type": "code",
   "execution_count": null,
   "metadata": {
    "colab": {
     "base_uri": "https://localhost:8080/"
    },
    "id": "2I8rTrm0DfMY",
    "outputId": "343d4264-9553-4b24-a73d-64f4426a96eb"
   },
   "outputs": [
    {
     "data": {
      "text/plain": [
       "1"
      ]
     },
     "execution_count": 52,
     "metadata": {},
     "output_type": "execute_result"
    }
   ],
   "source": [
    "# Get the number of dimensions of numpy array\n",
    "\n",
    "a.ndim"
   ]
  },
  {
   "cell_type": "code",
   "execution_count": null,
   "metadata": {
    "colab": {
     "base_uri": "https://localhost:8080/"
    },
    "id": "4dA8YF9hDfRY",
    "outputId": "19501058-38fe-4184-e2ba-7ccc97aa4e4f"
   },
   "outputs": [
    {
     "data": {
      "text/plain": [
       "(5,)"
      ]
     },
     "execution_count": 53,
     "metadata": {},
     "output_type": "execute_result"
    }
   ],
   "source": [
    "# Get the shape/size of numpy array\n",
    "\n",
    "a.shape"
   ]
  },
  {
   "cell_type": "code",
   "execution_count": null,
   "metadata": {
    "id": "vXDYwJdODfWs"
   },
   "outputs": [],
   "source": [
    "# Create a numpy array\n",
    "\n",
    "a = np.array([1, -1, 1, -1])"
   ]
  },
  {
   "cell_type": "code",
   "execution_count": null,
   "metadata": {
    "colab": {
     "base_uri": "https://localhost:8080/"
    },
    "id": "262h705oFC7z",
    "outputId": "fe58d0ea-d636-4d28-f9d8-9501c0bea91c"
   },
   "outputs": [
    {
     "data": {
      "text/plain": [
       "0.0"
      ]
     },
     "execution_count": 55,
     "metadata": {},
     "output_type": "execute_result"
    }
   ],
   "source": [
    "# Get the mean of numpy array\n",
    "\n",
    "mean = a.mean()\n",
    "mean"
   ]
  },
  {
   "cell_type": "code",
   "execution_count": null,
   "metadata": {
    "colab": {
     "base_uri": "https://localhost:8080/"
    },
    "id": "tToMU2zVFCq2",
    "outputId": "fa6b636b-44e2-4a06-b7a5-4ab1d3b490b9"
   },
   "outputs": [
    {
     "data": {
      "text/plain": [
       "1.0"
      ]
     },
     "execution_count": 56,
     "metadata": {},
     "output_type": "execute_result"
    }
   ],
   "source": [
    "# Get the standard deviation of numpy array\n",
    "\n",
    "standard_deviation=a.std()\n",
    "standard_deviation"
   ]
  },
  {
   "cell_type": "code",
   "execution_count": null,
   "metadata": {
    "colab": {
     "base_uri": "https://localhost:8080/"
    },
    "id": "BRFT40HsFClg",
    "outputId": "7cd2779c-5c04-439b-b8e6-18102bde4400"
   },
   "outputs": [
    {
     "data": {
      "text/plain": [
       "array([-1,  2,  3,  4,  5])"
      ]
     },
     "execution_count": 57,
     "metadata": {},
     "output_type": "execute_result"
    }
   ],
   "source": [
    "# Create a numpy array\n",
    "\n",
    "b = np.array([-1, 2, 3, 4, 5])\n",
    "b"
   ]
  },
  {
   "cell_type": "code",
   "execution_count": null,
   "metadata": {
    "colab": {
     "base_uri": "https://localhost:8080/"
    },
    "id": "_yhWec1EFCf6",
    "outputId": "ad842956-591d-419f-9330-20d5ea8b9519"
   },
   "outputs": [
    {
     "data": {
      "text/plain": [
       "5"
      ]
     },
     "execution_count": 58,
     "metadata": {},
     "output_type": "execute_result"
    }
   ],
   "source": [
    "# Get the biggest value in the numpy array\n",
    "\n",
    "max_b = b.max()\n",
    "max_b"
   ]
  },
  {
   "cell_type": "code",
   "execution_count": null,
   "metadata": {
    "colab": {
     "base_uri": "https://localhost:8080/"
    },
    "id": "fWZ20A-3FGD7",
    "outputId": "09c03838-a483-4beb-acd8-14b9223aa1ea"
   },
   "outputs": [
    {
     "data": {
      "text/plain": [
       "-1"
      ]
     },
     "execution_count": 59,
     "metadata": {},
     "output_type": "execute_result"
    }
   ],
   "source": [
    "# Get the smallest value in the numpy array\n",
    "\n",
    "min_b = b.min()\n",
    "min_b"
   ]
  },
  {
   "cell_type": "markdown",
   "metadata": {
    "id": "d46npX1-FJhE"
   },
   "source": [
    "### **Numpy Array Operations**"
   ]
  },
  {
   "cell_type": "code",
   "execution_count": null,
   "metadata": {
    "colab": {
     "base_uri": "https://localhost:8080/"
    },
    "id": "WLAC_eH05YQg",
    "outputId": "ed48e974-e708-4994-b202-6bfc54d24479"
   },
   "outputs": [
    {
     "name": "stdout",
     "output_type": "stream",
     "text": [
      "[0 1 2 3 4]\n",
      "[0 1 2 3 4]\n",
      "[0 2 4 6 8]\n",
      "[ 0  1  4  9 16]\n",
      "[  1   1   4  27 256]\n"
     ]
    }
   ],
   "source": [
    "# Power of Numpy\n",
    "x = np.arange(5)\n",
    "y = np.arange(5)\n",
    "print(x)\n",
    "print(y)\n",
    "print(x + y)\n",
    "print(x * y)\n",
    "print(x ** y)"
   ]
  },
  {
   "cell_type": "code",
   "execution_count": null,
   "metadata": {
    "colab": {
     "base_uri": "https://localhost:8080/"
    },
    "id": "cEwbn9abSAeb",
    "outputId": "1579870b-affa-4f61-e2b8-5447457134e3"
   },
   "outputs": [
    {
     "data": {
      "text/plain": [
       "array([[0, 1, 1],\n",
       "       [1, 0, 1]])"
      ]
     },
     "execution_count": 61,
     "metadata": {},
     "output_type": "execute_result"
    }
   ],
   "source": [
    "# Create a matrix A\n",
    "\n",
    "A = np.array([[0, 1, 1], [1, 0, 1]])\n",
    "A"
   ]
  },
  {
   "cell_type": "code",
   "execution_count": null,
   "metadata": {
    "colab": {
     "base_uri": "https://localhost:8080/"
    },
    "id": "ZoUwJQhFSAmL",
    "outputId": "001a0d98-2e1e-4069-ccb4-6ec1a79c925e"
   },
   "outputs": [
    {
     "data": {
      "text/plain": [
       "array([[ 1,  1],\n",
       "       [ 1,  1],\n",
       "       [-1,  1]])"
      ]
     },
     "execution_count": 62,
     "metadata": {},
     "output_type": "execute_result"
    }
   ],
   "source": [
    "# Create a matrix B\n",
    "\n",
    "B = np.array([[1, 1], [1, 1], [-1, 1]])\n",
    "B"
   ]
  },
  {
   "cell_type": "code",
   "execution_count": null,
   "metadata": {
    "colab": {
     "base_uri": "https://localhost:8080/"
    },
    "id": "leZ5aPFSSAvi",
    "outputId": "b39410be-cf18-4ac9-ba72-057444bb37fb"
   },
   "outputs": [
    {
     "data": {
      "text/plain": [
       "array([[0, 2],\n",
       "       [0, 2]])"
      ]
     },
     "execution_count": 63,
     "metadata": {},
     "output_type": "execute_result"
    }
   ],
   "source": [
    "# Calculate the dot product\n",
    "\n",
    "Z = np.dot(A,B)\n",
    "Z"
   ]
  },
  {
   "cell_type": "code",
   "execution_count": null,
   "metadata": {
    "colab": {
     "base_uri": "https://localhost:8080/"
    },
    "id": "TOwG0xXWSH87",
    "outputId": "67c2884a-7178-441d-f1e7-a53a4d9dac41"
   },
   "outputs": [
    {
     "data": {
      "text/plain": [
       "array([[0.        , 0.90929743],\n",
       "       [0.        , 0.90929743]])"
      ]
     },
     "execution_count": 64,
     "metadata": {},
     "output_type": "execute_result"
    }
   ],
   "source": [
    "# Calculate the sine of Z\n",
    "\n",
    "np.sin(Z)"
   ]
  },
  {
   "cell_type": "code",
   "execution_count": null,
   "metadata": {
    "colab": {
     "base_uri": "https://localhost:8080/"
    },
    "id": "tAZ3saZv5cnQ",
    "outputId": "44973793-cb1b-4ac7-d58a-8401b6107506"
   },
   "outputs": [
    {
     "data": {
      "text/plain": [
       "array([[ 0,  1,  2],\n",
       "       [ 3,  4,  5],\n",
       "       [ 6,  7,  8],\n",
       "       [ 9, 10, 11]])"
      ]
     },
     "execution_count": 65,
     "metadata": {},
     "output_type": "execute_result"
    }
   ],
   "source": [
    "x = np.arange(12)\n",
    "c = x.reshape(4,3)\n",
    "c"
   ]
  },
  {
   "cell_type": "code",
   "execution_count": null,
   "metadata": {
    "colab": {
     "base_uri": "https://localhost:8080/"
    },
    "id": "rrlVbRe0SPEN",
    "outputId": "3a0ff47c-1b0a-48b1-d30f-312e94e0501e"
   },
   "outputs": [
    {
     "data": {
      "text/plain": [
       "array([[ 0,  3,  6,  9],\n",
       "       [ 1,  4,  7, 10],\n",
       "       [ 2,  5,  8, 11]])"
      ]
     },
     "execution_count": 66,
     "metadata": {},
     "output_type": "execute_result"
    }
   ],
   "source": [
    "c.T"
   ]
  },
  {
   "cell_type": "markdown",
   "metadata": {
    "id": "md4ufa7e5vbC"
   },
   "source": [
    "## **Numpy to Load and Save Files**"
   ]
  },
  {
   "cell_type": "code",
   "execution_count": null,
   "metadata": {
    "colab": {
     "base_uri": "https://localhost:8080/"
    },
    "id": "V-5bsZck5Nvz",
    "outputId": "4cca03ca-7467-4ae3-8470-9b3b3a96550e"
   },
   "outputs": [
    {
     "name": "stdout",
     "output_type": "stream",
     "text": [
      "--2022-07-27 15:32:40--  https://web.stanford.edu/class/archive/cs/cs109/cs109.1166/stuff/titanic.csv\n",
      "Resolving web.stanford.edu (web.stanford.edu)... 171.67.215.200, 2607:f6d0:0:925a::ab43:d7c8\n",
      "Connecting to web.stanford.edu (web.stanford.edu)|171.67.215.200|:443... connected.\n",
      "HTTP request sent, awaiting response... 200 OK\n",
      "Length: 44225 (43K) [text/csv]\n",
      "Saving to: ‘titanic.csv’\n",
      "\n",
      "titanic.csv         100%[===================>]  43.19K  --.-KB/s    in 0.08s   \n",
      "\n",
      "2022-07-27 15:32:40 (534 KB/s) - ‘titanic.csv’ saved [44225/44225]\n",
      "\n"
     ]
    }
   ],
   "source": [
    "!wget https://web.stanford.edu/class/archive/cs/cs109/cs109.1166/stuff/titanic.csv"
   ]
  },
  {
   "cell_type": "code",
   "execution_count": null,
   "metadata": {
    "id": "YAtutDTDAtVx"
   },
   "outputs": [],
   "source": [
    "a = np.array(['apple','banana','Cherries']) # numpy list\n",
    "\n",
    "#np.save(\"new_array\",x)\n",
    "#np.load(\"new_array.npy\")\n",
    "\n",
    "np.savetxt('fruits.txt',c) # saving the list"
   ]
  },
  {
   "cell_type": "code",
   "execution_count": null,
   "metadata": {
    "id": "nsLaA4fITAIg"
   },
   "outputs": [],
   "source": [
    "data = np.genfromtxt('titanic.csv',delimiter=',')"
   ]
  },
  {
   "cell_type": "code",
   "execution_count": null,
   "metadata": {
    "colab": {
     "base_uri": "https://localhost:8080/"
    },
    "id": "SNDCXN9-TQve",
    "outputId": "468aea2f-bc9b-4807-ab46-22f074e2d96a"
   },
   "outputs": [
    {
     "data": {
      "text/plain": [
       "(888, 8)"
      ]
     },
     "execution_count": 72,
     "metadata": {},
     "output_type": "execute_result"
    }
   ],
   "source": [
    "data.shape"
   ]
  },
  {
   "cell_type": "markdown",
   "metadata": {
    "id": "Nde3pxBeY3xf"
   },
   "source": [
    "# **Exercise** Numpy"
   ]
  },
  {
   "cell_type": "code",
   "execution_count": 4,
   "metadata": {
    "id": "DcVdDCwcY8gK"
   },
   "outputs": [
    {
     "data": {
      "text/plain": [
       "array([ 3,  9, 15])"
      ]
     },
     "execution_count": 4,
     "metadata": {},
     "output_type": "execute_result"
    }
   ],
   "source": [
    "# Given an integer array of size 10. Print the index of elements which are multiple of 3. \n",
    "import numpy as np\n",
    "\n",
    "a = np.array([1,  3,  5,  7,  9, 11, 13, 15, 17, 19])\n",
    "'''for i in a:\n",
    "    if i%3==0:\n",
    "        print(i)\n",
    "'''\n",
    "a[a%3==0]"
   ]
  },
  {
   "cell_type": "code",
   "execution_count": 13,
   "metadata": {
    "id": "9JyDSmmWZCW_"
   },
   "outputs": [
    {
     "data": {
      "text/plain": [
       "array([3, 4, 5, 6, 7, 8])"
      ]
     },
     "execution_count": 13,
     "metadata": {},
     "output_type": "execute_result"
    }
   ],
   "source": [
    "# Given a 1D array, negate all elements which are between 3 and 8 (both inclusive)?\n",
    "\n",
    "a = np.array([1, 2, 3, 4, 5, 6, 7, 8, 9, 10])\n",
    "a[(a>=3) & (a<=8)]"
   ]
  },
  {
   "cell_type": "code",
   "execution_count": 21,
   "metadata": {
    "id": "gl_vRaroZcEl"
   },
   "outputs": [],
   "source": [
    "# Given a 1D array, sort the values\n",
    "\n",
    "a = np.array( [[21,20,19, 18, 17],\n",
    "  [16, 15, 14, 13, 12],\n",
    "  [11, 10,  9,  8,  7],\n",
    "  [ 6,  5,  4,  3 , 2]])\n"
   ]
  },
  {
   "cell_type": "markdown",
   "metadata": {
    "id": "2L9QGTFOZgOv"
   },
   "source": [
    "Sort the Given Array in to this 2D Format\n",
    "\n",
    "```\n",
    "[[ 6  5  4  3  2]\n",
    "[11 10  9  8  7]\n",
    "[16 15 14 13 12]\n",
    "[21 20 19 18 17]]\n",
    "```"
   ]
  },
  {
   "cell_type": "code",
   "execution_count": 22,
   "metadata": {},
   "outputs": [
    {
     "data": {
      "text/plain": [
       "array([[ 6,  5,  4,  3,  2],\n",
       "       [11, 10,  9,  8,  7],\n",
       "       [16, 15, 14, 13, 12],\n",
       "       [21, 20, 19, 18, 17]])"
      ]
     },
     "execution_count": 22,
     "metadata": {},
     "output_type": "execute_result"
    }
   ],
   "source": [
    "a.sort(axis=0)\n",
    "a"
   ]
  },
  {
   "cell_type": "code",
   "execution_count": 69,
   "metadata": {
    "id": "tf9RRvxfaBUf"
   },
   "outputs": [
    {
     "data": {
      "text/plain": [
       "array([11,  2, 13,  4, 15,  6, 27,  8, 19])"
      ]
     },
     "execution_count": 69,
     "metadata": {},
     "output_type": "execute_result"
    }
   ],
   "source": [
    "# Given an integer array of size 9 and replace the first occurrence of maximum value by 0?\n",
    "\n",
    "a = np.array([11, 2, 13, 4, 15, 6, 27, 8, 19])\n",
    "a"
   ]
  },
  {
   "cell_type": "code",
   "execution_count": 79,
   "metadata": {},
   "outputs": [
    {
     "data": {
      "text/plain": [
       "array([11,  2, 13,  4, 15,  6,  9,  8,  9])"
      ]
     },
     "execution_count": 79,
     "metadata": {},
     "output_type": "execute_result"
    }
   ],
   "source": [
    "a[a.argmax()]=9\n",
    "a"
   ]
  },
  {
   "cell_type": "code",
   "execution_count": 82,
   "metadata": {
    "id": "8V5xJQgGe7Qt"
   },
   "outputs": [
    {
     "data": {
      "text/plain": [
       "array([[1., 0., 0., 0., 0., 0.],\n",
       "       [0., 1., 0., 0., 0., 0.],\n",
       "       [0., 0., 1., 0., 0., 0.],\n",
       "       [0., 0., 0., 1., 0., 0.],\n",
       "       [0., 0., 0., 0., 1., 0.]])"
      ]
     },
     "execution_count": 82,
     "metadata": {},
     "output_type": "execute_result"
    }
   ],
   "source": [
    "# Create an integer Identity matrix (5, 6) using Numpy function\n",
    "np.eye(5,6)"
   ]
  }
 ],
 "metadata": {
  "colab": {
   "collapsed_sections": [
    "u8O_yMnACQCK",
    "K2u0PPL7DDFd",
    "d46npX1-FJhE",
    "md4ufa7e5vbC"
   ],
   "provenance": []
  },
  "kernelspec": {
   "display_name": "Python 3 (ipykernel)",
   "language": "python",
   "name": "python3"
  },
  "language_info": {
   "codemirror_mode": {
    "name": "ipython",
    "version": 3
   },
   "file_extension": ".py",
   "mimetype": "text/x-python",
   "name": "python",
   "nbconvert_exporter": "python",
   "pygments_lexer": "ipython3",
   "version": "3.9.6"
  }
 },
 "nbformat": 4,
 "nbformat_minor": 1
}
